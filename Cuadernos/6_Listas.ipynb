{
 "cells": [
  {
   "cell_type": "markdown",
   "id": "e4cac7c3",
   "metadata": {},
   "source": [
    "<p style=\"text-align:center;\">\n",
    "  <img src=\"recursos/imagenes/portada.jpg\" style=\"width: 250px;\" />\n",
    "</p>\n",
    "<h1 style=\"text-align: center; font-size: 50px; color:#0C90D2 ;\">Domina Python y desbloquea tu potencial</h1>\n",
    "<h3 style=\"text-align: center; font-size: 30px; color:#0C90D2 ;\">Curso introductorio a lenguaje Python</h3>"
   ]
  },
  {
   "cell_type": "markdown",
   "id": "e1ae39a0-8a30-4be9-9e5e-a1fb319ec338",
   "metadata": {},
   "source": [
    "# Contenido:"
   ]
  },
  {
   "cell_type": "markdown",
   "id": "2f151613-f3cc-467a-9cd5-397d25addf22",
   "metadata": {},
   "source": [
    "* [Listas](#sec1)\n",
    "    - [Definición](#subsec1)\n",
    "    - [Acceso a un elemento](#subsec2)\n",
    "    - [Función len()](#subsec3)\n",
    "    - [Modificación de un elemento](#subsec4)\n",
    "    - [Métodos](#subsec5)\n",
    "    - [Convertir un objeto a lista](#subsec6)\n",
    "    - [Listas anidadas](#subsec7)\n",
    "    - [Otras operaciones](#subsec8)"
   ]
  },
  {
   "cell_type": "markdown",
   "id": "138eb201",
   "metadata": {},
   "source": [
    "## Capítulo 6: Estructura de datos: Listas"
   ]
  },
  {
   "cell_type": "markdown",
   "id": "92d200d1-eaf6-4912-be86-510a32b35c73",
   "metadata": {},
   "source": [
    "Las listas en Python son estructuras de datos que nos permiten almacenar múltiples elementos en un solo lugar."
   ]
  },
  {
   "cell_type": "markdown",
   "id": "705b48a8",
   "metadata": {},
   "source": [
    "<a class=\"anchor\" id=\"sec1\"></a>\n",
    "## Listas"
   ]
  },
  {
   "cell_type": "markdown",
   "id": "764264d8-d8eb-4406-987f-3d3aa89dbaf9",
   "metadata": {},
   "source": [
    "<a class=\"anchor\" id=\"subsec1\"></a>\n",
    "### Definición"
   ]
  },
  {
   "cell_type": "markdown",
   "id": "9000ed29",
   "metadata": {},
   "source": [
    "Una lista es una estructura de datos formada por una secuencia ordenada de objetos.\n",
    "\n",
    "Las lista pueden contener elemntos de distintos tipos, incluyendo listas (anidar). Además son iterables, es decir pueden ser recorridos, y mutables, que significa que los valores que contienen pueden ser modificados.\n",
    "\n",
    "Las listas se definen entre `[]`, y escribiendo los elementos separados por coma.\n",
    "\n",
    "En Python se identifican como `list`."
   ]
  },
  {
   "cell_type": "code",
   "execution_count": 1,
   "id": "13b2c2d7",
   "metadata": {},
   "outputs": [
    {
     "data": {
      "text/plain": [
       "[1, 'cadena', 2.5, True, [0, 1]]"
      ]
     },
     "execution_count": 1,
     "metadata": {},
     "output_type": "execute_result"
    }
   ],
   "source": [
    "# Crea una lista\n",
    "lista = [1, \"cadena\", 2.5, True, [0,1]]\n",
    "lista"
   ]
  },
  {
   "cell_type": "code",
   "execution_count": 2,
   "id": "46ff399c",
   "metadata": {},
   "outputs": [
    {
     "data": {
      "text/plain": [
       "list"
      ]
     },
     "execution_count": 2,
     "metadata": {},
     "output_type": "execute_result"
    }
   ],
   "source": [
    "type(lista)"
   ]
  },
  {
   "cell_type": "markdown",
   "id": "ea20ca6a-32c0-49e5-8110-d25ddd163b41",
   "metadata": {},
   "source": [
    "<a class=\"anchor\" id=\"subsec2\"></a>\n",
    "### Acceso a un elemento de una lista"
   ]
  },
  {
   "cell_type": "markdown",
   "id": "34d31fdb",
   "metadata": {},
   "source": [
    "Los elementos de una lista pueden ser accedidos a través del indice; el primer elemento siempre tendra indice cero. Por otra parte podemos usar una notación negativa, la cual nos permite acceder a los elementos de la lista desde el final, donde el ultimo elemento tendra indice -1."
   ]
  },
  {
   "attachments": {},
   "cell_type": "markdown",
   "id": "c81a241c",
   "metadata": {},
   "source": [
    "<p style=\"text-align:center;\">\n",
    "  <img src=\"recursos/imagenes/indice_lista.png\" width=\"50%\"/>\n",
    "</p>"
   ]
  },
  {
   "cell_type": "code",
   "execution_count": 3,
   "id": "3138deb0-7c89-4a86-adde-93e3d8f22482",
   "metadata": {},
   "outputs": [
    {
     "data": {
      "text/plain": [
       "[1, 'cadena', 2.5, True, [0, 1]]"
      ]
     },
     "execution_count": 3,
     "metadata": {},
     "output_type": "execute_result"
    }
   ],
   "source": [
    "# Elementos de la lista\n",
    "lista"
   ]
  },
  {
   "cell_type": "code",
   "execution_count": 4,
   "id": "93de6f07",
   "metadata": {},
   "outputs": [
    {
     "data": {
      "text/plain": [
       "1"
      ]
     },
     "execution_count": 4,
     "metadata": {},
     "output_type": "execute_result"
    }
   ],
   "source": [
    "lista[0]"
   ]
  },
  {
   "cell_type": "code",
   "execution_count": 5,
   "id": "79e057ce",
   "metadata": {},
   "outputs": [
    {
     "data": {
      "text/plain": [
       "[0, 1]"
      ]
     },
     "execution_count": 5,
     "metadata": {},
     "output_type": "execute_result"
    }
   ],
   "source": [
    "lista[-1]"
   ]
  },
  {
   "cell_type": "code",
   "execution_count": 6,
   "id": "23598bd0",
   "metadata": {},
   "outputs": [
    {
     "data": {
      "text/plain": [
       "[0, 1]"
      ]
     },
     "execution_count": 6,
     "metadata": {},
     "output_type": "execute_result"
    }
   ],
   "source": [
    "lista[4]"
   ]
  },
  {
   "cell_type": "markdown",
   "id": "2474a41a",
   "metadata": {},
   "source": [
    "<a class=\"anchor\" id=\"subsec3\"></a>\n",
    "### Función  `len(obj)`"
   ]
  },
  {
   "cell_type": "markdown",
   "id": "7e1a19cc",
   "metadata": {},
   "source": [
    "La función `len(obj)` retorna el número de elementos contenidos en un objeto."
   ]
  },
  {
   "cell_type": "code",
   "execution_count": 7,
   "id": "a51f0e35",
   "metadata": {},
   "outputs": [
    {
     "data": {
      "text/plain": [
       "5"
      ]
     },
     "execution_count": 7,
     "metadata": {},
     "output_type": "execute_result"
    }
   ],
   "source": [
    "# Numero de elementos dentro de la lista\n",
    "len(lista)"
   ]
  },
  {
   "cell_type": "code",
   "execution_count": 8,
   "id": "a818f3a3",
   "metadata": {},
   "outputs": [
    {
     "data": {
      "text/plain": [
       "6"
      ]
     },
     "execution_count": 8,
     "metadata": {},
     "output_type": "execute_result"
    }
   ],
   "source": [
    "len(lista[1])"
   ]
  },
  {
   "cell_type": "markdown",
   "id": "bc5810e1-31f6-4400-aee5-ebb3014c307b",
   "metadata": {},
   "source": [
    "<a class=\"anchor\" id=\"subsec4\"></a>\n",
    "### Modificación de un elemento"
   ]
  },
  {
   "cell_type": "markdown",
   "id": "90751d63",
   "metadata": {},
   "source": [
    "Como ya antes mencionamos, los elementos de una lista pueden ser modificados; podemos identificar el elemento a través del indice para realizar la modificación."
   ]
  },
  {
   "cell_type": "code",
   "execution_count": 9,
   "id": "fa61b135",
   "metadata": {},
   "outputs": [
    {
     "name": "stdout",
     "output_type": "stream",
     "text": [
      "Antes de modificar\n"
     ]
    },
    {
     "data": {
      "text/plain": [
       "[1, 'cadena', 2.5, True, [0, 1]]"
      ]
     },
     "execution_count": 9,
     "metadata": {},
     "output_type": "execute_result"
    }
   ],
   "source": [
    "print(\"Antes de modificar\")\n",
    "lista"
   ]
  },
  {
   "cell_type": "code",
   "execution_count": 10,
   "id": "a623393c",
   "metadata": {
    "scrolled": true
   },
   "outputs": [
    {
     "name": "stdout",
     "output_type": "stream",
     "text": [
      "Despues de modificar\n"
     ]
    },
    {
     "data": {
      "text/plain": [
       "[1, 800, 2.5, True, [0, 1]]"
      ]
     },
     "execution_count": 10,
     "metadata": {},
     "output_type": "execute_result"
    }
   ],
   "source": [
    "# Modificando el segundo elemento\n",
    "lista[1] = 800\n",
    "\n",
    "print(\"Despues de modificar\")\n",
    "lista"
   ]
  },
  {
   "cell_type": "markdown",
   "id": "eebe4e93",
   "metadata": {},
   "source": [
    "<a class=\"anchor\" id=\"subsec5\"></a>\n",
    "### Métodos"
   ]
  },
  {
   "cell_type": "markdown",
   "id": "c5d72f25",
   "metadata": {},
   "source": [
    "Un método es una función que __pertenece a__ un objeto. Es decir son funciones especificas para cada objeto."
   ]
  },
  {
   "cell_type": "markdown",
   "id": "3b9439be",
   "metadata": {},
   "source": [
    "#### `append()`"
   ]
  },
  {
   "cell_type": "markdown",
   "id": "414ed229",
   "metadata": {},
   "source": [
    "El método `append()` agrega un elemento al final de la lista."
   ]
  },
  {
   "cell_type": "code",
   "execution_count": 11,
   "id": "e83d330c",
   "metadata": {},
   "outputs": [
    {
     "name": "stdout",
     "output_type": "stream",
     "text": [
      "Lista original\n",
      "[1, 800, 2.5, True, [0, 1]]\n",
      "\n",
      "Lista con un nuevo elemento\n",
      "[1, 800, 2.5, True, [0, 1], 6]\n"
     ]
    }
   ],
   "source": [
    "print(\"Lista original\")\n",
    "print(lista)\n",
    "\n",
    "print(\"\\nLista con un nuevo elemento\")\n",
    "lista.append(6)\n",
    "print(lista)"
   ]
  },
  {
   "cell_type": "markdown",
   "id": "5d7f5c3f",
   "metadata": {},
   "source": [
    "Si pasamos una lista, tupla, diccionario o elemento iterable como argumento, el método `append()` agrgara el elemento como uno solo."
   ]
  },
  {
   "cell_type": "code",
   "execution_count": 12,
   "id": "8e655382",
   "metadata": {},
   "outputs": [
    {
     "name": "stdout",
     "output_type": "stream",
     "text": [
      "Agregando un iterable como un solo elemento\n",
      "[1, 800, 2.5, True, [0, 1], 6, ['uno', 'dos', 'tres']]\n"
     ]
    }
   ],
   "source": [
    "print(\"Agregando un iterable como un solo elemento\")\n",
    "lista.append([\"uno\", \"dos\", \"tres\"])\n",
    "print(lista)"
   ]
  },
  {
   "cell_type": "markdown",
   "id": "95904835",
   "metadata": {},
   "source": [
    "#### `extend()`"
   ]
  },
  {
   "cell_type": "markdown",
   "id": "fb4ee35d",
   "metadata": {},
   "source": [
    "Permite agregar varios elementos a una lista como elementos individules a partir de un iterable."
   ]
  },
  {
   "cell_type": "code",
   "execution_count": 13,
   "id": "865fa24f",
   "metadata": {},
   "outputs": [
    {
     "name": "stdout",
     "output_type": "stream",
     "text": [
      "Agregando varios elementos desde un iterable\n",
      "[1, 800, 2.5, True, [0, 1], 6, ['uno', 'dos', 'tres'], 'uno', 'dos', 'tres']\n"
     ]
    }
   ],
   "source": [
    "print(\"Agregando varios elementos desde un iterable\")\n",
    "lista.extend([\"uno\", \"dos\", \"tres\"])\n",
    "print(lista)"
   ]
  },
  {
   "cell_type": "markdown",
   "id": "72e242e9",
   "metadata": {},
   "source": [
    "#### `insert()`"
   ]
  },
  {
   "cell_type": "markdown",
   "id": "1476e1c9",
   "metadata": {},
   "source": [
    "El método `insert()` recibe dos argumentos, el primero es la posición en la que se quiere insertar un elemento, y el segundo es el elemento."
   ]
  },
  {
   "cell_type": "code",
   "execution_count": 14,
   "id": "b59455e7",
   "metadata": {
    "scrolled": true
   },
   "outputs": [
    {
     "name": "stdout",
     "output_type": "stream",
     "text": [
      "Lista original\n",
      "[1, 2, 2, 4, 5, 6, 8, 7, 8]\n",
      "\n",
      "Insertando el elemento 555 en la posición 5\n",
      "[1, 2, 2, 4, 5, 555, 6, 8, 7, 8]\n"
     ]
    }
   ],
   "source": [
    "print(\"Lista original\")\n",
    "lista2 = [1, 2, 2, 4, 5, 6, 8, 7, 8]\n",
    "print(lista2)\n",
    "\n",
    "print(\"\\nInsertando el elemento 555 en la posición 5\")\n",
    "lista2.insert(5, 555)\n",
    "print(lista2)"
   ]
  },
  {
   "cell_type": "markdown",
   "id": "a790a3b1",
   "metadata": {},
   "source": [
    "#### `count()`"
   ]
  },
  {
   "cell_type": "markdown",
   "id": "e57c4201",
   "metadata": {},
   "source": [
    "El método `count()` recibe un elemento como argumento, y cuenta la cantidad de veces que esté en la lista."
   ]
  },
  {
   "cell_type": "code",
   "execution_count": 15,
   "id": "6a27b011",
   "metadata": {},
   "outputs": [
    {
     "name": "stdout",
     "output_type": "stream",
     "text": [
      "¿Cuantas veces está el número 8 en la lista?\n"
     ]
    },
    {
     "data": {
      "text/plain": [
       "2"
      ]
     },
     "execution_count": 15,
     "metadata": {},
     "output_type": "execute_result"
    }
   ],
   "source": [
    "print(\"¿Cuantas veces está el número 8 en la lista?\")\n",
    "lista2.count(8)"
   ]
  },
  {
   "cell_type": "markdown",
   "id": "974993b6-8475-4bad-9719-2324f0e16b34",
   "metadata": {},
   "source": [
    "Sí el elemento no se encuentra el resultado es cero."
   ]
  },
  {
   "cell_type": "code",
   "execution_count": 16,
   "id": "f52bd6c9-7c07-44f5-9887-75f395c5278c",
   "metadata": {},
   "outputs": [
    {
     "data": {
      "text/plain": [
       "0"
      ]
     },
     "execution_count": 16,
     "metadata": {},
     "output_type": "execute_result"
    }
   ],
   "source": [
    "lista2.count(88)"
   ]
  },
  {
   "cell_type": "markdown",
   "id": "6a6d8719",
   "metadata": {},
   "source": [
    "#### `index()`"
   ]
  },
  {
   "cell_type": "markdown",
   "id": "f6a12390",
   "metadata": {},
   "source": [
    "El método `index()` devuelve el indice de la primera aparición del elemento que se pase como argumeto."
   ]
  },
  {
   "cell_type": "code",
   "execution_count": 17,
   "id": "bca15833",
   "metadata": {},
   "outputs": [
    {
     "name": "stdout",
     "output_type": "stream",
     "text": [
      "¿En que posición aparece por primera vez el número 8?\n",
      "[1, 2, 2, 4, 5, 555, 6, 8, 7, 8]\n"
     ]
    },
    {
     "data": {
      "text/plain": [
       "7"
      ]
     },
     "execution_count": 17,
     "metadata": {},
     "output_type": "execute_result"
    }
   ],
   "source": [
    "print(\"¿En que posición aparece por primera vez el número 8?\")\n",
    "print(lista2)\n",
    "lista2.index(8)"
   ]
  },
  {
   "cell_type": "markdown",
   "id": "27d2a25f",
   "metadata": {},
   "source": [
    "Además el método admite un segundo argumento, que permite buscar desde la posición deseada."
   ]
  },
  {
   "cell_type": "code",
   "execution_count": 18,
   "id": "9ed87e3f",
   "metadata": {},
   "outputs": [
    {
     "name": "stdout",
     "output_type": "stream",
     "text": [
      "¿En que posición aparece por primera vez el número 8, si se busca desde la posisión 8?\n",
      "[1, 2, 2, 4, 5, 555, 6, 8, 7, 8]\n"
     ]
    },
    {
     "data": {
      "text/plain": [
       "9"
      ]
     },
     "execution_count": 18,
     "metadata": {},
     "output_type": "execute_result"
    }
   ],
   "source": [
    "print(\"¿En que posición aparece por primera vez el número 8, si se busca desde la posisión 8?\")\n",
    "print(lista2)\n",
    "lista2.index(8, 8)"
   ]
  },
  {
   "cell_type": "markdown",
   "id": "4066f682",
   "metadata": {},
   "source": [
    "#### `pop()`"
   ]
  },
  {
   "cell_type": "markdown",
   "id": "83b72e17",
   "metadata": {},
   "source": [
    "Devuelve el ultimo elemento de la lista y lo borra de la misma, pero el elemento se puede almacenar en una nueva variable."
   ]
  },
  {
   "cell_type": "code",
   "execution_count": 19,
   "id": "09a957e8",
   "metadata": {},
   "outputs": [
    {
     "name": "stdout",
     "output_type": "stream",
     "text": [
      "Lista original\n",
      "[1, 2, 2, 4, 5, 555, 6, 8, 7, 8]\n",
      "\n",
      "Extrayendo el ultimo elemento\n",
      "[1, 2, 2, 4, 5, 555, 6, 8, 7]\n",
      "\n",
      "El ultimo elemento es:  8\n"
     ]
    }
   ],
   "source": [
    "print(\"Lista original\")\n",
    "print(lista2)\n",
    "\n",
    "print(\"\\nExtrayendo el ultimo elemento\")\n",
    "ultimo_elemento = lista2.pop()\n",
    "print(lista2)\n",
    "print(\"\\nEl ultimo elemento es: \", ultimo_elemento)"
   ]
  },
  {
   "cell_type": "markdown",
   "id": "6790fb7c",
   "metadata": {},
   "source": [
    "Opcionalmente se puede pasar un argumento númerico, como indice del elemento a extraer."
   ]
  },
  {
   "cell_type": "code",
   "execution_count": 20,
   "id": "0fbd6e67",
   "metadata": {},
   "outputs": [
    {
     "name": "stdout",
     "output_type": "stream",
     "text": [
      "Lista original\n",
      "[1, 2, 2, 4, 5, 555, 6, 8, 7]\n",
      "\n",
      "Extrayendo el ultimo elemento\n",
      "[2, 2, 4, 5, 555, 6, 8, 7]\n",
      "\n",
      "El elemento extraido es:  1\n"
     ]
    }
   ],
   "source": [
    "print(\"Lista original\")\n",
    "print(lista2)\n",
    "\n",
    "print(\"\\nExtrayendo el ultimo elemento\")\n",
    "elemento_extraido = lista2.pop(0)\n",
    "print(lista2)\n",
    "print(\"\\nEl elemento extraido es: \", elemento_extraido)"
   ]
  },
  {
   "cell_type": "markdown",
   "id": "d9a5b52d",
   "metadata": {},
   "source": [
    "#### `remove()`"
   ]
  },
  {
   "cell_type": "markdown",
   "id": "37a678f0",
   "metadata": {},
   "source": [
    "El método `remove()` recibe como argumento un elemento, y borra su primera aparición de la lista."
   ]
  },
  {
   "cell_type": "code",
   "execution_count": 21,
   "id": "f8c89177",
   "metadata": {},
   "outputs": [
    {
     "name": "stdout",
     "output_type": "stream",
     "text": [
      "Lista original\n",
      "[2, 2, 4, 5, 555, 6, 8, 7]\n",
      "\n",
      "Removiendo el ultimo elemento\n",
      "[2, 2, 4, 5, 6, 8, 7]\n"
     ]
    }
   ],
   "source": [
    "print(\"Lista original\")\n",
    "print(lista2)\n",
    "\n",
    "print(\"\\nRemoviendo el ultimo elemento\")\n",
    "lista2.remove(555)\n",
    "print(lista2)"
   ]
  },
  {
   "cell_type": "markdown",
   "id": "5b5516c7",
   "metadata": {},
   "source": [
    "#### `reverse()`"
   ]
  },
  {
   "cell_type": "markdown",
   "id": "941da28e",
   "metadata": {},
   "source": [
    "Este método invierte el orden de los elementos de una lista."
   ]
  },
  {
   "cell_type": "code",
   "execution_count": 22,
   "id": "fe1bb4d8",
   "metadata": {},
   "outputs": [
    {
     "name": "stdout",
     "output_type": "stream",
     "text": [
      "Lista original\n",
      "[2, 2, 4, 5, 6, 8, 7]\n",
      "\n",
      "Inviertiendo el orden de los elementos\n",
      "[7, 8, 6, 5, 4, 2, 2]\n"
     ]
    }
   ],
   "source": [
    "print(\"Lista original\")\n",
    "print(lista2)\n",
    "\n",
    "print(\"\\nInviertiendo el orden de los elementos\")\n",
    "lista2.reverse()\n",
    "print(lista2)"
   ]
  },
  {
   "cell_type": "markdown",
   "id": "2ec16bf5",
   "metadata": {},
   "source": [
    "#### `sort()`"
   ]
  },
  {
   "cell_type": "markdown",
   "id": "3dfe0afb",
   "metadata": {},
   "source": [
    "Permite ordenar una lista."
   ]
  },
  {
   "cell_type": "code",
   "execution_count": 23,
   "id": "f798869b",
   "metadata": {},
   "outputs": [
    {
     "data": {
      "text/plain": [
       "[8, 2, 6, 4, 7, 9, 1, 3, 5]"
      ]
     },
     "execution_count": 23,
     "metadata": {},
     "output_type": "execute_result"
    }
   ],
   "source": [
    "lista3 = [8, 2, 6, 4, 7, 9, 1, 3, 5]\n",
    "lista3"
   ]
  },
  {
   "cell_type": "code",
   "execution_count": 24,
   "id": "5c0bbb75",
   "metadata": {},
   "outputs": [
    {
     "data": {
      "text/plain": [
       "[1, 2, 3, 4, 5, 6, 7, 8, 9]"
      ]
     },
     "execution_count": 24,
     "metadata": {},
     "output_type": "execute_result"
    }
   ],
   "source": [
    "lista3.sort()\n",
    "lista3"
   ]
  },
  {
   "cell_type": "markdown",
   "id": "f1837a29",
   "metadata": {},
   "source": [
    "Se puede pasar como argumento el método `reverse()` con valor `True` y obtener la lista ordenada de forma descendente."
   ]
  },
  {
   "cell_type": "code",
   "execution_count": 25,
   "id": "c4c66157",
   "metadata": {},
   "outputs": [
    {
     "data": {
      "text/plain": [
       "[9, 8, 7, 6, 5, 4, 3, 2, 1]"
      ]
     },
     "execution_count": 25,
     "metadata": {},
     "output_type": "execute_result"
    }
   ],
   "source": [
    "lista3.sort(reverse=True)\n",
    "lista3"
   ]
  },
  {
   "cell_type": "markdown",
   "id": "77d65313",
   "metadata": {},
   "source": [
    "#### `clear()`"
   ]
  },
  {
   "cell_type": "markdown",
   "id": "37152dda",
   "metadata": {},
   "source": [
    "Permite vaciar la lista."
   ]
  },
  {
   "cell_type": "code",
   "execution_count": 26,
   "id": "48a0fabd",
   "metadata": {},
   "outputs": [
    {
     "data": {
      "text/plain": [
       "[]"
      ]
     },
     "execution_count": 26,
     "metadata": {},
     "output_type": "execute_result"
    }
   ],
   "source": [
    "lista3.clear()\n",
    "lista3"
   ]
  },
  {
   "cell_type": "code",
   "execution_count": 27,
   "id": "147a9e45",
   "metadata": {},
   "outputs": [
    {
     "data": {
      "text/plain": [
       "[5]"
      ]
     },
     "execution_count": 27,
     "metadata": {},
     "output_type": "execute_result"
    }
   ],
   "source": [
    "lista3.append(5)\n",
    "lista3"
   ]
  },
  {
   "cell_type": "markdown",
   "id": "e3acc8c8",
   "metadata": {},
   "source": [
    "<a class=\"anchor\" id=\"subsec6\"></a>\n",
    "### Convertir un objeto a lista"
   ]
  },
  {
   "attachments": {},
   "cell_type": "markdown",
   "id": "834d447c-de3b-43f5-a10e-382ce6177363",
   "metadata": {},
   "source": [
    "Podemos usar la función `list()` para convertir objetos iterables en listas."
   ]
  },
  {
   "cell_type": "code",
   "execution_count": 28,
   "id": "9466c516-5906-4d6e-8740-fcc7892f96fc",
   "metadata": {},
   "outputs": [
    {
     "data": {
      "text/plain": [
       "['c', 'u', 'r', 's', 'o', ' ', 'd', 'e', ' ', 'p', 'y', 't', 'h', 'o', 'n']"
      ]
     },
     "execution_count": 28,
     "metadata": {},
     "output_type": "execute_result"
    }
   ],
   "source": [
    "# Convertir una cadena a lista\n",
    "list('curso de python')"
   ]
  },
  {
   "cell_type": "markdown",
   "id": "cf3fe030-bb71-4671-b716-03067743e3bc",
   "metadata": {},
   "source": [
    "<a class=\"anchor\" id=\"subsec7\"></a>\n",
    "### Listas anidadas"
   ]
  },
  {
   "cell_type": "markdown",
   "id": "90c9f7ec",
   "metadata": {},
   "source": [
    "Las listas anidadas son listas dentro de una lista."
   ]
  },
  {
   "cell_type": "code",
   "execution_count": 29,
   "id": "beb1c9b8",
   "metadata": {},
   "outputs": [
    {
     "data": {
      "text/plain": [
       "[[0, 1], ['uno', 'dos'], [['a', 'b'], 2], [[8, 9], [5, 7]]]"
      ]
     },
     "execution_count": 29,
     "metadata": {},
     "output_type": "execute_result"
    }
   ],
   "source": [
    "lista_anidada = [[0,1], [\"uno\", \"dos\"], [[\"a\", \"b\"], 2], [[8, 9],[5, 7]]]\n",
    "lista_anidada"
   ]
  },
  {
   "cell_type": "markdown",
   "id": "529ccd6f",
   "metadata": {},
   "source": [
    "Podemos acceder a los elementos usando `[]` tantas veces como niveles existan"
   ]
  },
  {
   "cell_type": "code",
   "execution_count": 30,
   "id": "16245a30",
   "metadata": {},
   "outputs": [
    {
     "data": {
      "text/plain": [
       "[0, 1]"
      ]
     },
     "execution_count": 30,
     "metadata": {},
     "output_type": "execute_result"
    }
   ],
   "source": [
    "# Acceder al primer elemento\n",
    "lista_anidada[0]"
   ]
  },
  {
   "cell_type": "code",
   "execution_count": 31,
   "id": "cc751f74",
   "metadata": {},
   "outputs": [
    {
     "data": {
      "text/plain": [
       "0"
      ]
     },
     "execution_count": 31,
     "metadata": {},
     "output_type": "execute_result"
    }
   ],
   "source": [
    "# Acceder al primer elemento del primer elemento\n",
    "lista_anidada[0][0]"
   ]
  },
  {
   "cell_type": "code",
   "execution_count": 32,
   "id": "c972b79d",
   "metadata": {},
   "outputs": [
    {
     "data": {
      "text/plain": [
       "1"
      ]
     },
     "execution_count": 32,
     "metadata": {},
     "output_type": "execute_result"
    }
   ],
   "source": [
    "# Acceder al segundo elemento del primer elemento\n",
    "lista_anidada[0][1]"
   ]
  },
  {
   "cell_type": "code",
   "execution_count": 33,
   "id": "3cf67a0c",
   "metadata": {},
   "outputs": [
    {
     "data": {
      "text/plain": [
       "5"
      ]
     },
     "execution_count": 33,
     "metadata": {},
     "output_type": "execute_result"
    }
   ],
   "source": [
    "# Acceder al primer elemento del segundo elemento, del cuarto elemento de la lista\n",
    "lista_anidada[3][1][0]"
   ]
  },
  {
   "cell_type": "code",
   "execution_count": 34,
   "id": "8ab97352",
   "metadata": {},
   "outputs": [
    {
     "data": {
      "text/plain": [
       "[['uno', 'dos'], [['a', 'b'], 2]]"
      ]
     },
     "execution_count": 34,
     "metadata": {},
     "output_type": "execute_result"
    }
   ],
   "source": [
    "# Obtiene los elemetos desde el idice x hasta el indice n-1\n",
    "lista_anidada[1:3]"
   ]
  },
  {
   "cell_type": "code",
   "execution_count": 35,
   "id": "6ea7af13",
   "metadata": {},
   "outputs": [
    {
     "data": {
      "text/plain": [
       "[[0, 1], [['a', 'b'], 2]]"
      ]
     },
     "execution_count": 35,
     "metadata": {},
     "output_type": "execute_result"
    }
   ],
   "source": [
    "# Obtiene los elemetos desde el idice x hasta el indice n-1, en saltos de m elementos\n",
    "lista_anidada[0:4:2]"
   ]
  },
  {
   "cell_type": "markdown",
   "id": "a407be09-e1a9-4fd0-9d13-9e88ce48f52b",
   "metadata": {},
   "source": [
    "<a class=\"anchor\" id=\"subsec8\"></a>\n",
    "### Otras operaciones con listas"
   ]
  },
  {
   "cell_type": "markdown",
   "id": "18c0d954-22ce-4e95-a43d-51227f70744f",
   "metadata": {},
   "source": [
    "Podemos usar los operadores matemáticos `+` o `*` y realizar algunas operaciones sobre la(s) listas(s)."
   ]
  },
  {
   "cell_type": "code",
   "execution_count": 36,
   "id": "d06d1053",
   "metadata": {},
   "outputs": [],
   "source": [
    "# Creamos dos listas\n",
    "lista4 = [1, 4, 5]\n",
    "lista5 = [5, 8, 9]"
   ]
  },
  {
   "cell_type": "code",
   "execution_count": 37,
   "id": "3aa524db-777b-46cd-9721-1e9548f42ec0",
   "metadata": {},
   "outputs": [
    {
     "name": "stdout",
     "output_type": "stream",
     "text": [
      "[1, 4, 5]\n",
      "[5, 8, 9]\n"
     ]
    }
   ],
   "source": [
    "print(lista4)\n",
    "print(lista5)"
   ]
  },
  {
   "cell_type": "markdown",
   "id": "d04d9a0f-f606-49f3-8018-4bc6279c0d66",
   "metadata": {},
   "source": [
    "Podemos unir dos o más listas con ele operador `+`."
   ]
  },
  {
   "cell_type": "code",
   "execution_count": 38,
   "id": "48f8bcda",
   "metadata": {},
   "outputs": [
    {
     "data": {
      "text/plain": [
       "[1, 4, 5, 5, 8, 9]"
      ]
     },
     "execution_count": 38,
     "metadata": {},
     "output_type": "execute_result"
    }
   ],
   "source": [
    "# Unir dos listas con el operador +\n",
    "lista_unida = lista4 + lista5\n",
    "lista_unida"
   ]
  },
  {
   "cell_type": "markdown",
   "id": "7c411453-300f-4404-859c-755c446876f4",
   "metadata": {},
   "source": [
    "Podemos repetir los elementos de una lista cuantas veces se quiera, usando el operador `*` y un número $n$."
   ]
  },
  {
   "cell_type": "code",
   "execution_count": 39,
   "id": "d2e14ba8-cb68-474e-bf43-cd0b7d8760c1",
   "metadata": {},
   "outputs": [
    {
     "data": {
      "text/plain": [
       "[1, 4, 5, 1, 4, 5]"
      ]
     },
     "execution_count": 39,
     "metadata": {},
     "output_type": "execute_result"
    }
   ],
   "source": [
    "# Repite los elementos de una lista dos veces\n",
    "lista4 * 2"
   ]
  },
  {
   "cell_type": "markdown",
   "id": "8f6af986-ce13-4e02-9fe1-5391b84709ad",
   "metadata": {},
   "source": [
    "Extra: se puede usar la pala bra reservada `del` para eliminar elementos u objetos."
   ]
  },
  {
   "cell_type": "code",
   "execution_count": 40,
   "id": "5f24773e",
   "metadata": {},
   "outputs": [
    {
     "data": {
      "text/plain": [
       "[1, 5, 5, 8, 9]"
      ]
     },
     "execution_count": 40,
     "metadata": {},
     "output_type": "execute_result"
    }
   ],
   "source": [
    "del lista_unida[1]\n",
    "lista_unida"
   ]
  }
 ],
 "metadata": {
  "kernelspec": {
   "display_name": "Python 3 (ipykernel)",
   "language": "python",
   "name": "python3"
  },
  "language_info": {
   "codemirror_mode": {
    "name": "ipython",
    "version": 3
   },
   "file_extension": ".py",
   "mimetype": "text/x-python",
   "name": "python",
   "nbconvert_exporter": "python",
   "pygments_lexer": "ipython3",
   "version": "3.9.19"
  },
  "widgets": {
   "application/vnd.jupyter.widget-state+json": {
    "state": {},
    "version_major": 2,
    "version_minor": 0
   }
  }
 },
 "nbformat": 4,
 "nbformat_minor": 5
}
