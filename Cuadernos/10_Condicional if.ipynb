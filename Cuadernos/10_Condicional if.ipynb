{
 "cells": [
  {
   "cell_type": "markdown",
   "id": "e4cac7c3",
   "metadata": {},
   "source": [
    "<p style=\"text-align:center;\">\n",
    "  <img src=\"recursos/imagenes/portada.jpg\" style=\"width: 250px;\" />\n",
    "</p>\n",
    "<h1 style=\"text-align: center; font-size: 50px; color:#0C90D2 ;\">Domina Python y desbloquea tu potencial</h1>\n",
    "<h3 style=\"text-align: center; font-size: 30px; color:#0C90D2 ;\">Curso introductorio a lenguaje Python</h3>"
   ]
  },
  {
   "cell_type": "markdown",
   "id": "f2fbcb8d-768b-4a14-bc33-665db4316b28",
   "metadata": {},
   "source": [
    "# Contenido:"
   ]
  },
  {
   "cell_type": "markdown",
   "id": "083a2e74-0104-40ee-84bb-baccf2909d46",
   "metadata": {},
   "source": [
    "* [if, elif, else](#sec1)\n",
    "    - [Definición](#subsec1)\n",
    "    - [Ejemplos de uso](#subsec2)"
   ]
  },
  {
   "cell_type": "markdown",
   "id": "138eb201",
   "metadata": {},
   "source": [
    "## Capítulo 10: Estructuras de control: Codicional if"
   ]
  },
  {
   "cell_type": "markdown",
   "id": "883c463d-75cc-47d3-a8be-fa72b086f49a",
   "metadata": {},
   "source": [
    "Al ejecutar una lista de instrucciones Python las efectua de forma lineal, es decir se desplaza a través del script linea por linea; pero en ocasiones desearemos ejecutar una instrucción si y solo si, se cumple una condición dada, para resolver este dilema existe la estructura condicional `if`,`elif`,`else`."
   ]
  },
  {
   "cell_type": "markdown",
   "id": "705b48a8",
   "metadata": {},
   "source": [
    "<a class=\"anchor\" id=\"sec1\"></a>\n",
    "## Condicional if, elif, else"
   ]
  },
  {
   "cell_type": "markdown",
   "id": "f3e5f363-8b9c-4077-990a-35ee76ebcd95",
   "metadata": {},
   "source": [
    "<a class=\"anchor\" id=\"subsec1\"></a>\n",
    "### Definición"
   ]
  },
  {
   "cell_type": "markdown",
   "id": "9000ed29",
   "metadata": {},
   "source": [
    "La estructura condicional `if` evalua una operación lógica, si el resultado es verdadero (`True`) ejecutará la instrucción dada. El condicional tiene la siguiente estructura:"
   ]
  },
  {
   "cell_type": "markdown",
   "id": "f2c635dd-8501-47af-b9d7-f43f9e0466b9",
   "metadata": {},
   "source": [
    "```python\n",
    "if <condición>:\n",
    "    <acción a ejecutar>\n",
    "```"
   ]
  },
  {
   "cell_type": "markdown",
   "id": "caa659df-740a-4dd2-9217-9a33233aa3bf",
   "metadata": {},
   "source": [
    "Una forma de entender el condicional es leerlo de la siguiente manera: ***Si la condición se cumple, entonces realice la acción***."
   ]
  },
  {
   "cell_type": "markdown",
   "id": "04ba7259-1b30-4ee4-bc1f-dffa9919d389",
   "metadata": {},
   "source": [
    "<div class = \"alert alert-block alert-warning\">\n",
    "    <b>📝 Ejemplo</b>\n",
    "</div>"
   ]
  },
  {
   "cell_type": "code",
   "execution_count": 1,
   "id": "7433d54f",
   "metadata": {},
   "outputs": [
    {
     "name": "stdout",
     "output_type": "stream",
     "text": [
      "5 es mayor que 3\n"
     ]
    }
   ],
   "source": [
    "# Define variables\n",
    "x = 5\n",
    "y = 3\n",
    "\n",
    "# Define el condicional\n",
    "if x > y:\n",
    "    print(f\"{x} es mayor que {y}\")"
   ]
  },
  {
   "cell_type": "markdown",
   "id": "c1da2511-b3e9-4bc3-9f2c-b355eddb7f5d",
   "metadata": {
    "tags": []
   },
   "source": [
    "¿Pero que pasa si el resultado es falso (`False`)? - En este caso no realiza ninguna acción.\n",
    "\n",
    "¿Y si queremos evaluar más de una condición? - Podemos usar la sentencia `elif`, que permite evaluar otro condición siempre y cuando la anterior no se haya cumplido. La sintaxis para hacer uso de `if` en conjunto con `elif` es de la siguiente forma:"
   ]
  },
  {
   "cell_type": "markdown",
   "id": "23b49704-f597-4b07-98bc-8726d465cf3a",
   "metadata": {},
   "source": [
    "```python\n",
    "if <condición A>:\n",
    "    <acción 1 a ejecutar>\n",
    "elif <condición B>:\n",
    "    <acción 2 a ejecutar>\n",
    "```"
   ]
  },
  {
   "cell_type": "markdown",
   "id": "8e0b1918-0fab-4d99-b0ce-e50aa64574ab",
   "metadata": {},
   "source": [
    "Lo anterior se lee de la siguiente manera: ***Si la condición A se cumple, entonces realice la acción 1; de lo contrario, si la condición B se cumple, entonces realice la acción 2***."
   ]
  },
  {
   "cell_type": "markdown",
   "id": "ab5063d5-17c0-404a-86b2-149fb33386dd",
   "metadata": {},
   "source": [
    "<div class = \"alert alert-block alert-warning\">\n",
    "    <b>📝 Ejemplo</b>\n",
    "</div>"
   ]
  },
  {
   "cell_type": "code",
   "execution_count": 2,
   "id": "8125dd6c-b5f1-44c4-a065-a250c1e880c8",
   "metadata": {},
   "outputs": [
    {
     "name": "stdout",
     "output_type": "stream",
     "text": [
      "2 es menor que 8\n"
     ]
    }
   ],
   "source": [
    "# Define variables\n",
    "x = 2\n",
    "y = 8\n",
    "\n",
    "# Define el condicional\n",
    "if x > y:\n",
    "    print(f\"{x} es mayor que {y}\")\n",
    "elif x < y:\n",
    "    print(f\"{x} es menor que {y}\")"
   ]
  },
  {
   "cell_type": "markdown",
   "id": "adbd9552-ded8-44bc-a7a6-8109f0e5f3aa",
   "metadata": {},
   "source": [
    "¿Y si el resultado de evaluar la sentencia `elif` es falso (`False`)? - En este caso podemos no realizar ninguna acción, o usar la sentencia `else`, la cual se ejecuta si ninguna de las condiciones anteriores fue verdadera (`True`). Podemos usar `if`, `elif` y `else` en conjunto de la siguiente forma:"
   ]
  },
  {
   "cell_type": "markdown",
   "id": "a2fed308-0433-486b-9705-4f405f7b6217",
   "metadata": {},
   "source": [
    "```python\n",
    "if <condición A>:\n",
    "    <acción 1 a ejecutar>\n",
    "elif <condición B>:\n",
    "    <acción 2 a ejecutar>\n",
    "else:\n",
    "    <acción 3 a ejecutar>\n",
    "```"
   ]
  },
  {
   "cell_type": "markdown",
   "id": "458faf86-5625-4872-8c44-902f520d8e3a",
   "metadata": {},
   "source": [
    "Lo anterior se puede leer de la siguiente manera: ***Si la condición A se cumple, entonces realice la acción 1; de lo contrario, si la condición B se cumple, entonces realice la acción 2; en otro caso, realice la acción 3***."
   ]
  },
  {
   "cell_type": "markdown",
   "id": "527a6336-6190-41ed-aced-d96b291f3401",
   "metadata": {},
   "source": [
    "<div class = \"alert alert-block alert-warning\">\n",
    "    <b>📝 Ejemplo</b>\n",
    "</div>"
   ]
  },
  {
   "cell_type": "code",
   "execution_count": 3,
   "id": "1eb7a440-e2d2-4b13-bbd0-621fff49e0c1",
   "metadata": {},
   "outputs": [
    {
     "name": "stdout",
     "output_type": "stream",
     "text": [
      "2 es igual que 2\n"
     ]
    }
   ],
   "source": [
    "# Define variables\n",
    "x = 2\n",
    "y = 2\n",
    "\n",
    "# Define el condicional\n",
    "if x > y:\n",
    "    print(f\"{x} es mayor que {y}\")\n",
    "elif x < y:\n",
    "    print(f\"{x} es menor que {y}\")\n",
    "else:\n",
    "    print(f\"{x} es igual que {y}\")"
   ]
  },
  {
   "cell_type": "markdown",
   "id": "344d2494-488a-4367-b4a1-d3f8161066de",
   "metadata": {},
   "source": [
    "<a class=\"anchor\" id=\"subsec2\"></a>\n",
    "## Ejemplos de uso"
   ]
  },
  {
   "cell_type": "markdown",
   "id": "85221ebc-48d1-4acc-8b6c-c65e69ccdb0a",
   "metadata": {},
   "source": [
    "### 1. Usando operadores de pertenencia"
   ]
  },
  {
   "cell_type": "code",
   "execution_count": 4,
   "id": "79f3dfb4-ffd7-4cef-afe9-9626980ab7a4",
   "metadata": {},
   "outputs": [
    {
     "name": "stdout",
     "output_type": "stream",
     "text": [
      "La letra a pertenece a las vocales\n"
     ]
    }
   ],
   "source": [
    "# Define variables\n",
    "vocales = [\"a\", \"e\", \"i\", \"o\", \"u\"]\n",
    "x = \"a\"\n",
    "\n",
    "# Define el condicional\n",
    "if x in vocales:\n",
    "    print(f\"La letra {x} pertenece a las vocales\")"
   ]
  },
  {
   "cell_type": "markdown",
   "id": "195912d0-6186-4c9b-b96e-3be01a1e2316",
   "metadata": {},
   "source": [
    "### 2. Usando operadores lógicos"
   ]
  },
  {
   "cell_type": "code",
   "execution_count": 5,
   "id": "3bbd3952-2ee1-4a63-b475-a6af8d9c57da",
   "metadata": {},
   "outputs": [
    {
     "name": "stdout",
     "output_type": "stream",
     "text": [
      "0.3 está entre 0 y 1\n"
     ]
    }
   ],
   "source": [
    "# Define variables\n",
    "x = 0\n",
    "y = 1\n",
    "z = 0.3\n",
    "\n",
    "# Define el condicional\n",
    "if z > 0 and z < 1:\n",
    "    print(f\"{z} está entre 0 y 1\")"
   ]
  },
  {
   "cell_type": "markdown",
   "id": "b392b76a-000c-46c0-8ae3-49452b8a8dea",
   "metadata": {},
   "source": [
    "### 3. Saber si un número es par o impar"
   ]
  },
  {
   "cell_type": "markdown",
   "id": "3fecc1ae-4dd4-4905-b852-212320d9ac28",
   "metadata": {},
   "source": [
    "Si sabemo que 0 representa en booleano un `False`, entonces:"
   ]
  },
  {
   "cell_type": "code",
   "execution_count": 6,
   "id": "d790e504-67d2-42dc-8258-2c0cb9573361",
   "metadata": {},
   "outputs": [
    {
     "data": {
      "text/plain": [
       "True"
      ]
     },
     "execution_count": 6,
     "metadata": {},
     "output_type": "execute_result"
    }
   ],
   "source": [
    "not 0"
   ]
  },
  {
   "cell_type": "code",
   "execution_count": 7,
   "id": "727b640d-50f7-4f88-9299-37c17d1b6205",
   "metadata": {},
   "outputs": [
    {
     "name": "stdout",
     "output_type": "stream",
     "text": [
      "Es par\n"
     ]
    }
   ],
   "source": [
    "# Define variables\n",
    "x = 6\n",
    "\n",
    "# Define el condicional\n",
    "if not x%2:\n",
    "    print(\"Es par\")\n",
    "else:\n",
    "    print(\"Es impar\")"
   ]
  },
  {
   "cell_type": "markdown",
   "id": "08849dd4-f9b6-4520-b0e9-984fd4fe81e6",
   "metadata": {},
   "source": [
    "Otra manera de hacerlo es de la siguiente forma:"
   ]
  },
  {
   "cell_type": "code",
   "execution_count": 8,
   "id": "1b06c46a-b0c1-4079-9b46-dd31b1d6c5a1",
   "metadata": {},
   "outputs": [
    {
     "name": "stdout",
     "output_type": "stream",
     "text": [
      "Es par\n"
     ]
    }
   ],
   "source": [
    "if x%2 == 0:\n",
    "    print(\"Es par\")\n",
    "else:\n",
    "    print(\"Es impar\")"
   ]
  },
  {
   "cell_type": "markdown",
   "id": "d8ce1943-cecd-433a-a234-6bec87e3b3e3",
   "metadata": {},
   "source": [
    "### 4. Usando la función `input()`"
   ]
  },
  {
   "cell_type": "markdown",
   "id": "6a52ac46-48a6-4878-af75-a2875a8b6893",
   "metadata": {},
   "source": [
    "La función `input()` permite capturar información a través del teclado, la información que se capture se toma como texto, por lo tanto si se desea tomar valores númericos deben ser transformados."
   ]
  },
  {
   "cell_type": "code",
   "execution_count": 9,
   "id": "1e164edb-afbe-4a29-9e0e-333ec7f6fd8b",
   "metadata": {},
   "outputs": [
    {
     "name": "stdout",
     "output_type": "stream",
     "text": [
      "Ingrese un número por favor\n"
     ]
    },
    {
     "name": "stdin",
     "output_type": "stream",
     "text": [
      " 8\n"
     ]
    },
    {
     "name": "stdout",
     "output_type": "stream",
     "text": [
      "El valor ingresado fue: 8.0\n"
     ]
    }
   ],
   "source": [
    "print(\"Ingrese un número por favor\")\n",
    "# Se toma el valor y se convierte en tipo float\n",
    "valor = float(input())\n",
    "print(f\"El valor ingresado fue: {valor}\")"
   ]
  },
  {
   "cell_type": "markdown",
   "id": "7fbb1fdd-085a-4205-bbae-548eea5b5369",
   "metadata": {},
   "source": [
    "Ahora usemos lo anterior para comparar dos valores ingresados por teclado."
   ]
  },
  {
   "cell_type": "code",
   "execution_count": 10,
   "id": "1986856c-3542-4f41-8707-7954dbc7c81b",
   "metadata": {},
   "outputs": [
    {
     "name": "stdout",
     "output_type": "stream",
     "text": [
      "Ingrese el primer número por favor\n"
     ]
    },
    {
     "name": "stdin",
     "output_type": "stream",
     "text": [
      " 8\n"
     ]
    },
    {
     "name": "stdout",
     "output_type": "stream",
     "text": [
      "Ingrese el segundo número por favor\n"
     ]
    },
    {
     "name": "stdin",
     "output_type": "stream",
     "text": [
      " 3\n"
     ]
    },
    {
     "name": "stdout",
     "output_type": "stream",
     "text": [
      "8.0 es mayor que 3.0\n"
     ]
    }
   ],
   "source": [
    "print(\"Ingrese el primer número por favor\")\n",
    "# Se toma el valor y se convierte en tipo float\n",
    "x = float(input())\n",
    "\n",
    "print(\"Ingrese el segundo número por favor\")\n",
    "# Se toma el valor y se convierte en tipo float\n",
    "y = float(input())\n",
    "\n",
    "# Define el condicional\n",
    "if x > y:\n",
    "    print(f\"{x} es mayor que {y}\")\n",
    "elif x < y:\n",
    "    print(f\"{x} es menor que {y}\")\n",
    "else:\n",
    "    print(f\"{x} es igual que {y}\")"
   ]
  },
  {
   "cell_type": "markdown",
   "id": "184feb70-e076-491b-bd37-e79c4111bd4a",
   "metadata": {},
   "source": [
    "### 5. Uso de `pass`"
   ]
  },
  {
   "cell_type": "markdown",
   "id": "97efcd4d-2d9f-4b21-9b56-574bec1596b2",
   "metadata": {},
   "source": [
    "Si un condicional se define sin contenido, es decir sin ninguna acción, al ejecutar generará un error, para que no suceda esto, `pass` permite definir un condicional sin contenido."
   ]
  },
  {
   "cell_type": "code",
   "execution_count": 11,
   "id": "5ee3d945-5396-4a67-aacc-8964e40880e3",
   "metadata": {},
   "outputs": [],
   "source": [
    "if x > y:\n",
    "    pass"
   ]
  }
 ],
 "metadata": {
  "kernelspec": {
   "display_name": "Python 3 (ipykernel)",
   "language": "python",
   "name": "python3"
  },
  "language_info": {
   "codemirror_mode": {
    "name": "ipython",
    "version": 3
   },
   "file_extension": ".py",
   "mimetype": "text/x-python",
   "name": "python",
   "nbconvert_exporter": "python",
   "pygments_lexer": "ipython3",
   "version": "3.9.19"
  },
  "widgets": {
   "application/vnd.jupyter.widget-state+json": {
    "state": {},
    "version_major": 2,
    "version_minor": 0
   }
  }
 },
 "nbformat": 4,
 "nbformat_minor": 5
}
