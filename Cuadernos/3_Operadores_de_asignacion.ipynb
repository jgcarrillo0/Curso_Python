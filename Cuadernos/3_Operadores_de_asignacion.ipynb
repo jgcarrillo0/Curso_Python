{
 "cells": [
  {
   "cell_type": "markdown",
   "id": "d1b9314f",
   "metadata": {},
   "source": [
    "<p style=\"text-align:center;\">\n",
    "  <img src=\"recursos/imagenes/portada.jpg\" style=\"width: 250px;\" />\n",
    "</p>\n",
    "<h1 style=\"text-align: center; font-size: 50px; color:#0C90D2 ;\">Domina Python y desbloquea tu potencial</h1>\n",
    "<h3 style=\"text-align: center; font-size: 30px; color:#0C90D2 ;\">Curso introductorio a lenguaje Python</h3>"
   ]
  },
  {
   "cell_type": "markdown",
   "id": "d113addd-a6c8-4326-8baf-af449a136d41",
   "metadata": {},
   "source": [
    "# Contenido:"
   ]
  },
  {
   "cell_type": "markdown",
   "id": "17cc3f3f-91ae-4dd3-83fc-f4d8367507b2",
   "metadata": {},
   "source": [
    "* [Operador de asignación](#sec1)\n",
    "* [Asignación aumentada](#sec2)"
   ]
  },
  {
   "cell_type": "markdown",
   "id": "6e4b4789",
   "metadata": {},
   "source": [
    "## Capítulo 3: Operadores de asignación "
   ]
  },
  {
   "cell_type": "markdown",
   "id": "7821a4a1-3e16-437d-9a6b-ab5430834359",
   "metadata": {},
   "source": [
    "En este capítulo, estudiaremos los operadores de asignación y como hacer uso de la asignación aumentada para simplificar nuestro código."
   ]
  },
  {
   "cell_type": "markdown",
   "id": "31e14464",
   "metadata": {},
   "source": [
    "<a class=\"anchor\" id=\"sec1\"></a>\n",
    "## Operador de asignación"
   ]
  },
  {
   "cell_type": "markdown",
   "id": "e8091aba",
   "metadata": {},
   "source": [
    "Un operador de asignación, es aquel que permite asignar un valor a una variable. El operador por defecto para realizar una asignación es el operador igual `=`."
   ]
  },
  {
   "cell_type": "markdown",
   "id": "abd3f415",
   "metadata": {},
   "source": [
    "El operador \"igual a\" `=`, permite asignar a la variable del lado izquierdo cualquier valor del lado derecho."
   ]
  },
  {
   "cell_type": "code",
   "execution_count": 1,
   "id": "66caec77",
   "metadata": {},
   "outputs": [
    {
     "data": {
      "text/plain": [
       "5"
      ]
     },
     "execution_count": 1,
     "metadata": {},
     "output_type": "execute_result"
    }
   ],
   "source": [
    "v = 5\n",
    "v"
   ]
  },
  {
   "cell_type": "markdown",
   "id": "d2c2b367-667f-41cb-b28a-d1a4bd6e7143",
   "metadata": {},
   "source": [
    "<a class=\"anchor\" id=\"sec2\"></a>\n",
    "## Asignación aumentada"
   ]
  },
  {
   "cell_type": "markdown",
   "id": "4321e83d",
   "metadata": {},
   "source": [
    "La asignación aumentada es una forma compacta de escribir y actualizar variables. Esencialmente, combina una operación aritmética con la asignación. Por ejemplo:\n",
    "\n",
    "Forma no abreviada\n",
    "~~~\n",
    "k = k + 1\n",
    "~~~\n",
    "Forma abreviada (uso de asignación aumentada)\n",
    "~~~\n",
    "k += 1\n",
    "~~~\n",
    "\n",
    "Mediante la combinación del operador `=` y demás operadores como `+`, `-`, `*`, `/`, `//` y `%` podemos aplicar **asignación aumentada**."
   ]
  },
  {
   "cell_type": "markdown",
   "id": "2341a319",
   "metadata": {},
   "source": [
    "### Operador `+=`"
   ]
  },
  {
   "cell_type": "markdown",
   "id": "a3ff6a68",
   "metadata": {},
   "source": [
    "Permite sumar a la variable del lado izquierdo el valor del lado derecho."
   ]
  },
  {
   "cell_type": "code",
   "execution_count": 2,
   "id": "06af97be",
   "metadata": {},
   "outputs": [
    {
     "data": {
      "text/plain": [
       "10"
      ]
     },
     "execution_count": 2,
     "metadata": {},
     "output_type": "execute_result"
    }
   ],
   "source": [
    "v += 5\n",
    "v"
   ]
  },
  {
   "cell_type": "markdown",
   "id": "9b559c2a",
   "metadata": {},
   "source": [
    "### Operador `-=`"
   ]
  },
  {
   "cell_type": "markdown",
   "id": "052405d0",
   "metadata": {},
   "source": [
    "Permite restar a la variable del lado izquierdo el valor del lado derecho."
   ]
  },
  {
   "cell_type": "code",
   "execution_count": 3,
   "id": "3678b743",
   "metadata": {},
   "outputs": [
    {
     "data": {
      "text/plain": [
       "6"
      ]
     },
     "execution_count": 3,
     "metadata": {},
     "output_type": "execute_result"
    }
   ],
   "source": [
    "v -= 4\n",
    "v"
   ]
  },
  {
   "cell_type": "markdown",
   "id": "1494979e",
   "metadata": {},
   "source": [
    "### Operador `*=`"
   ]
  },
  {
   "cell_type": "markdown",
   "id": "d7582762",
   "metadata": {},
   "source": [
    "Permite multiplicar la variable del lado izquierdo por el valor del lado derecho."
   ]
  },
  {
   "cell_type": "code",
   "execution_count": 4,
   "id": "52eda22f",
   "metadata": {},
   "outputs": [
    {
     "data": {
      "text/plain": [
       "51.0"
      ]
     },
     "execution_count": 4,
     "metadata": {},
     "output_type": "execute_result"
    }
   ],
   "source": [
    "v *= 8.5\n",
    "v"
   ]
  },
  {
   "cell_type": "markdown",
   "id": "23be4701",
   "metadata": {},
   "source": [
    "### Operador `/=`"
   ]
  },
  {
   "cell_type": "markdown",
   "id": "733d269b",
   "metadata": {},
   "source": [
    "Permite dividir la variable del lado izquierdo por el valor del lado derecho"
   ]
  },
  {
   "cell_type": "code",
   "execution_count": 5,
   "id": "37c7fbca",
   "metadata": {},
   "outputs": [
    {
     "data": {
      "text/plain": [
       "25.5"
      ]
     },
     "execution_count": 5,
     "metadata": {},
     "output_type": "execute_result"
    }
   ],
   "source": [
    "v /= 2\n",
    "v"
   ]
  },
  {
   "cell_type": "markdown",
   "id": "05324bd8",
   "metadata": {},
   "source": [
    "### Operador `//=`"
   ]
  },
  {
   "cell_type": "markdown",
   "id": "8ed1612d",
   "metadata": {},
   "source": [
    "Permite realizar una división entera a la variable del lado izquierdo por el valor del lado derecho."
   ]
  },
  {
   "cell_type": "code",
   "execution_count": 6,
   "id": "51edb7fc",
   "metadata": {},
   "outputs": [
    {
     "data": {
      "text/plain": [
       "12.0"
      ]
     },
     "execution_count": 6,
     "metadata": {},
     "output_type": "execute_result"
    }
   ],
   "source": [
    "v //= 2\n",
    "v"
   ]
  },
  {
   "cell_type": "markdown",
   "id": "a18d8087",
   "metadata": {},
   "source": [
    "### Operador `%=`"
   ]
  },
  {
   "cell_type": "markdown",
   "id": "fd30143b",
   "metadata": {},
   "source": [
    "Permite calcular el resto de la división de la variable del lado izquierdo por el valor del lado derecho."
   ]
  },
  {
   "cell_type": "code",
   "execution_count": 7,
   "id": "5ca2fc96",
   "metadata": {},
   "outputs": [
    {
     "data": {
      "text/plain": [
       "2.0"
      ]
     },
     "execution_count": 7,
     "metadata": {},
     "output_type": "execute_result"
    }
   ],
   "source": [
    "v %= 5\n",
    "v"
   ]
  }
 ],
 "metadata": {
  "kernelspec": {
   "display_name": "Python 3 (ipykernel)",
   "language": "python",
   "name": "python3"
  },
  "language_info": {
   "codemirror_mode": {
    "name": "ipython",
    "version": 3
   },
   "file_extension": ".py",
   "mimetype": "text/x-python",
   "name": "python",
   "nbconvert_exporter": "python",
   "pygments_lexer": "ipython3",
   "version": "3.9.19"
  },
  "widgets": {
   "application/vnd.jupyter.widget-state+json": {
    "state": {},
    "version_major": 2,
    "version_minor": 0
   }
  }
 },
 "nbformat": 4,
 "nbformat_minor": 5
}
