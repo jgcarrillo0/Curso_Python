{
 "cells": [
  {
   "cell_type": "markdown",
   "id": "e4cac7c3",
   "metadata": {},
   "source": [
    "<p style=\"text-align:center;\">\n",
    "  <img src=\"recursos/imagenes/portada.jpg\" style=\"width: 250px;\" />\n",
    "</p>\n",
    "<h1 style=\"text-align: center; font-size: 50px; color:#0C90D2 ;\">Domina Python y desbloquea tu potencial</h1>\n",
    "<h3 style=\"text-align: center; font-size: 30px; color:#0C90D2 ;\">Curso introductorio a lenguaje Python</h3>"
   ]
  },
  {
   "cell_type": "markdown",
   "id": "cbd82e9a-7289-4c88-91d3-12d6a628c461",
   "metadata": {},
   "source": [
    "# Contenido:"
   ]
  },
  {
   "cell_type": "markdown",
   "id": "ace85152-bab9-482a-85ee-a1b2c4cadc17",
   "metadata": {},
   "source": [
    "* [Conjuntos](#sec1)\n",
    "    - [Definición](#subsec1)\n",
    "    - [Operadores de pertenencia](#subsec2)\n",
    "    - [Métodos](#subsec3)\n",
    "    - [Operaciones entre conjuntos](#subsec4)\n",
    "    - [Convetir un objeto a conjunto](#subsec5)"
   ]
  },
  {
   "cell_type": "markdown",
   "id": "138eb201",
   "metadata": {},
   "source": [
    "## Capítulo 8: Estructura de datos: Conjuntos"
   ]
  },
  {
   "cell_type": "markdown",
   "id": "70d35ae0-a304-418c-ad47-beddd8dcf01e",
   "metadata": {},
   "source": [
    "Los conjuntos de Python son colecciones desordenadas de elementos únicos y mutables que permiten operaciones matemáticas como la unión, intersección y diferencia"
   ]
  },
  {
   "cell_type": "markdown",
   "id": "705b48a8",
   "metadata": {},
   "source": [
    "<a class=\"anchor\" id=\"sec1\"></a>\n",
    "## Conjuntos"
   ]
  },
  {
   "cell_type": "markdown",
   "id": "5589f6e0-41aa-49b5-a24f-4190d0063e86",
   "metadata": {},
   "source": [
    "<a class=\"anchor\" id=\"subsec1\"></a>\n",
    "### Definición"
   ]
  },
  {
   "cell_type": "markdown",
   "id": "9000ed29",
   "metadata": {},
   "source": [
    "Un conjunto es una colección de elementos no ordenados y sin repetir. Los conjuntos pueden contener elemntos de distintos tipos. Son iterables.\n",
    "\n",
    "Los conjuntos se definen entre `{}`, y escribiendo los elementos separados por coma.\n",
    "\n",
    "En Python se identifican como `set`."
   ]
  },
  {
   "cell_type": "markdown",
   "id": "efce2217",
   "metadata": {},
   "source": [
    "Existen los `set` que son conjuntos mutables y los `frozenset` que son conjuntos inmutables."
   ]
  },
  {
   "cell_type": "code",
   "execution_count": 1,
   "id": "7433d54f",
   "metadata": {},
   "outputs": [
    {
     "data": {
      "text/plain": [
       "{1, 2, 5, 8, 9}"
      ]
     },
     "execution_count": 1,
     "metadata": {},
     "output_type": "execute_result"
    }
   ],
   "source": [
    "# Crea un conjunto\n",
    "A = {1, 2, 5, 5, 5, 8, 8, 9}\n",
    "A"
   ]
  },
  {
   "cell_type": "code",
   "execution_count": 2,
   "id": "f9e8fe22",
   "metadata": {
    "scrolled": true
   },
   "outputs": [
    {
     "data": {
      "text/plain": [
       "set"
      ]
     },
     "execution_count": 2,
     "metadata": {},
     "output_type": "execute_result"
    }
   ],
   "source": [
    "type(A)"
   ]
  },
  {
   "cell_type": "code",
   "execution_count": 3,
   "id": "14e8ec3d",
   "metadata": {},
   "outputs": [
    {
     "data": {
      "text/plain": [
       "5"
      ]
     },
     "execution_count": 3,
     "metadata": {},
     "output_type": "execute_result"
    }
   ],
   "source": [
    "# Sirve como el cardinal del conjunto\n",
    "len(A)"
   ]
  },
  {
   "cell_type": "markdown",
   "id": "f655eee9",
   "metadata": {},
   "source": [
    "<a class=\"anchor\" id=\"subsec2\"></a>\n",
    "### Operadores de pertenencia"
   ]
  },
  {
   "cell_type": "markdown",
   "id": "7fcb21f8",
   "metadata": {},
   "source": [
    "Permiten concer si un elemento pertenece o no al cojunto.\n",
    "\n",
    "**Nota:** Estos operadores tambien pueden ser usados en listas, tuplas, cadenas..."
   ]
  },
  {
   "cell_type": "markdown",
   "id": "682ebf89",
   "metadata": {},
   "source": [
    "| **Operador**  | **Notación** |\n",
    "|---------------|--------------|\n",
    "|Pertenece      | in           |\n",
    "|No pertenece   | not in       |"
   ]
  },
  {
   "cell_type": "code",
   "execution_count": 4,
   "id": "cefa36c3",
   "metadata": {},
   "outputs": [
    {
     "data": {
      "text/plain": [
       "False"
      ]
     },
     "execution_count": 4,
     "metadata": {},
     "output_type": "execute_result"
    }
   ],
   "source": [
    "# ¿El valor 3 pertenece al conjunto A?\n",
    "3 in A"
   ]
  },
  {
   "cell_type": "markdown",
   "id": "3ce8a49b",
   "metadata": {},
   "source": [
    "<a class=\"anchor\" id=\"subsec3\"></a>\n",
    "### Métodos"
   ]
  },
  {
   "cell_type": "markdown",
   "id": "dc32f144",
   "metadata": {},
   "source": [
    "#### `add()`"
   ]
  },
  {
   "cell_type": "markdown",
   "id": "7d4328e6",
   "metadata": {},
   "source": [
    "Permite agregar un elemento a un conjunto, indepenmdientemente si este ya se encuentra."
   ]
  },
  {
   "cell_type": "code",
   "execution_count": 5,
   "id": "f009f250",
   "metadata": {},
   "outputs": [
    {
     "data": {
      "text/plain": [
       "{1, 2, 5, 8, 9, 10}"
      ]
     },
     "execution_count": 5,
     "metadata": {},
     "output_type": "execute_result"
    }
   ],
   "source": [
    "A.add(10)\n",
    "A"
   ]
  },
  {
   "cell_type": "markdown",
   "id": "913b4183-1c96-41b9-853d-d8911d704302",
   "metadata": {},
   "source": [
    "#### `update()`"
   ]
  },
  {
   "cell_type": "markdown",
   "id": "9ca4ce2c-4aff-4469-9b24-5cd8c012ee03",
   "metadata": {},
   "source": [
    "Permite agregar elementos a un conjunto a partir de un objeto iterable (tuplas, listas, diccionarios, conjuntos...)"
   ]
  },
  {
   "cell_type": "code",
   "execution_count": 6,
   "id": "3bc130f1-91e1-47bc-8ca7-1c916f632180",
   "metadata": {},
   "outputs": [
    {
     "data": {
      "text/plain": [
       "{1, 2, 5, 8, 9, 10, 100, 200, 300}"
      ]
     },
     "execution_count": 6,
     "metadata": {},
     "output_type": "execute_result"
    }
   ],
   "source": [
    "A.update([100, 200, 300])\n",
    "A"
   ]
  },
  {
   "cell_type": "markdown",
   "id": "583daffe",
   "metadata": {},
   "source": [
    "#### `remove()`"
   ]
  },
  {
   "cell_type": "markdown",
   "id": "5ae02dd4",
   "metadata": {},
   "source": [
    "Elimina del conjunto el elemento que se pase como argumento. Si el elemento no existe genera una excepción."
   ]
  },
  {
   "cell_type": "code",
   "execution_count": 7,
   "id": "c7efe726",
   "metadata": {
    "scrolled": true
   },
   "outputs": [
    {
     "data": {
      "text/plain": [
       "{1, 2, 5, 8, 9, 100, 200, 300}"
      ]
     },
     "execution_count": 7,
     "metadata": {},
     "output_type": "execute_result"
    }
   ],
   "source": [
    "A.remove(10)\n",
    "A"
   ]
  },
  {
   "cell_type": "markdown",
   "id": "2952e62a",
   "metadata": {},
   "source": [
    "#### `discard()` "
   ]
  },
  {
   "cell_type": "markdown",
   "id": "4157b982",
   "metadata": {},
   "source": [
    "Muy similar al método `remove()`, con la única diferencia que si el elemento que se pase como argumento no existe, no se genera una excepción."
   ]
  },
  {
   "cell_type": "code",
   "execution_count": 8,
   "id": "c40648ca",
   "metadata": {},
   "outputs": [
    {
     "data": {
      "text/plain": [
       "{1, 2, 5, 8, 9, 100, 200, 300}"
      ]
     },
     "execution_count": 8,
     "metadata": {},
     "output_type": "execute_result"
    }
   ],
   "source": [
    "# El elemento 11 no se encuentra en el conjunto\n",
    "A.discard(11)\n",
    "A"
   ]
  },
  {
   "cell_type": "markdown",
   "id": "121559ca",
   "metadata": {},
   "source": [
    "#### `pop()`"
   ]
  },
  {
   "cell_type": "markdown",
   "id": "ae3bf823",
   "metadata": {},
   "source": [
    "Elimina y devuelve un elemento aleatorio del conjunto de forma aleatoria."
   ]
  },
  {
   "cell_type": "code",
   "execution_count": 9,
   "id": "863471e4",
   "metadata": {},
   "outputs": [
    {
     "name": "stdout",
     "output_type": "stream",
     "text": [
      "Antes de usar pop: \n",
      " {1, 2, 5, 8, 9, 200, 100, 300}\n",
      "Despues de usar pop: \n",
      " {2, 5, 8, 9, 200, 100, 300}\n",
      "Elemento eliminado: \n",
      " 1\n"
     ]
    }
   ],
   "source": [
    "print(\"Antes de usar pop: \\n\", A)\n",
    "elem_eliminado = A.pop()\n",
    "print(\"Despues de usar pop: \\n\", A)\n",
    "print(\"Elemento eliminado: \\n\", elem_eliminado)"
   ]
  },
  {
   "cell_type": "markdown",
   "id": "a8160065",
   "metadata": {},
   "source": [
    "#### `copy()`"
   ]
  },
  {
   "cell_type": "markdown",
   "id": "eebcdf54",
   "metadata": {},
   "source": [
    "Genera una copia superficial del conjunto"
   ]
  },
  {
   "cell_type": "code",
   "execution_count": 10,
   "id": "c29023c1",
   "metadata": {},
   "outputs": [
    {
     "name": "stdout",
     "output_type": "stream",
     "text": [
      "Conjunto A: \n",
      " {2, 5, 8, 9, 200, 100, 300}\n",
      "Conjunto B: \n",
      " {2, 100, 5, 8, 9, 300, 200}\n"
     ]
    }
   ],
   "source": [
    "B = A.copy()\n",
    "print(\"Conjunto A: \\n\", A)\n",
    "print(\"Conjunto B: \\n\", B)"
   ]
  },
  {
   "cell_type": "code",
   "execution_count": 11,
   "id": "09162ce2",
   "metadata": {},
   "outputs": [
    {
     "data": {
      "text/plain": [
       "True"
      ]
     },
     "execution_count": 11,
     "metadata": {},
     "output_type": "execute_result"
    }
   ],
   "source": [
    "# Valida si el conjunto A es igual al conjunto B\n",
    "A == B"
   ]
  },
  {
   "cell_type": "markdown",
   "id": "660defbd",
   "metadata": {},
   "source": [
    "#### `clear()`"
   ]
  },
  {
   "cell_type": "markdown",
   "id": "91cbfb0f",
   "metadata": {},
   "source": [
    "Remueve todos los elemntos del conjunto."
   ]
  },
  {
   "cell_type": "code",
   "execution_count": 12,
   "id": "cad0dfde",
   "metadata": {},
   "outputs": [
    {
     "data": {
      "text/plain": [
       "set()"
      ]
     },
     "execution_count": 12,
     "metadata": {},
     "output_type": "execute_result"
    }
   ],
   "source": [
    "A.clear()\n",
    "A"
   ]
  },
  {
   "cell_type": "markdown",
   "id": "5ac2503c-f109-47c1-9e49-76cea0fb8a84",
   "metadata": {},
   "source": [
    "<a class=\"anchor\" id=\"subsec4\"></a>\n",
    "### Operaciones entre conjuntos"
   ]
  },
  {
   "cell_type": "markdown",
   "id": "fafce3c7",
   "metadata": {},
   "source": [
    "Gran parte de los métodos de los conjuntos están enfocados en las operaciones que se pueden hacer entre ellos."
   ]
  },
  {
   "cell_type": "markdown",
   "id": "7687b119",
   "metadata": {
    "tags": []
   },
   "source": [
    "#### `union()`"
   ]
  },
  {
   "cell_type": "markdown",
   "id": "f8f89e0e",
   "metadata": {},
   "source": [
    "Permite calcular la unión entre dos conjuntos."
   ]
  },
  {
   "cell_type": "code",
   "execution_count": 13,
   "id": "472585e0",
   "metadata": {},
   "outputs": [
    {
     "name": "stdout",
     "output_type": "stream",
     "text": [
      "Conjunto A:  {1, 3, 5, 7, 9} \n",
      "Conjunto B:  {0, 2, 4, 6, 8} \n",
      "Unión entre A y B:  {0, 1, 2, 3, 4, 5, 6, 7, 8, 9}\n"
     ]
    }
   ],
   "source": [
    "A = {1, 3, 5, 7, 9}\n",
    "B = {0, 2, 4, 6, 8}\n",
    "union = A.union(B)\n",
    "\n",
    "print(\"Conjunto A: \", A, \"\\nConjunto B: \", B, \"\\nUnión entre A y B: \", union)"
   ]
  },
  {
   "cell_type": "markdown",
   "id": "5fa7433b-1bdb-47c8-a117-8b8f4a2bb047",
   "metadata": {},
   "source": [
    "<p style=\"text-align:center;\">\n",
    "  <img src=\"recursos/imagenes/union.png\" width=\"60%\"/>\n",
    "</p>"
   ]
  },
  {
   "cell_type": "markdown",
   "id": "a3d6a409",
   "metadata": {},
   "source": [
    "#### `intersection()`"
   ]
  },
  {
   "cell_type": "markdown",
   "id": "0a1294c9",
   "metadata": {},
   "source": [
    "Permite calcular la intersección entre conjuntos."
   ]
  },
  {
   "cell_type": "code",
   "execution_count": 14,
   "id": "e36a29ae",
   "metadata": {},
   "outputs": [
    {
     "name": "stdout",
     "output_type": "stream",
     "text": [
      "Conjunto A:  {1, 3, 5, 7, 9} \n",
      "Conjunto C:  {1, 2, 3, 7, 8, 9} \n",
      "Intersección entre A y C:  {1, 3, 9, 7}\n"
     ]
    }
   ],
   "source": [
    "A = {1, 3, 5, 7, 9}\n",
    "C = {1, 2, 3, 7, 8, 9}\n",
    "interseccion = A.intersection(C)\n",
    "\n",
    "print(\"Conjunto A: \", A, \"\\nConjunto C: \", C, \"\\nIntersección entre A y C: \", interseccion)"
   ]
  },
  {
   "cell_type": "markdown",
   "id": "0b77d937-eeb4-41d0-ad2d-6a27afdd7920",
   "metadata": {},
   "source": [
    "<p style=\"text-align:center;\">\n",
    "  <img src=\"recursos/imagenes/interseccion.png\" width=\"60%\"/>\n",
    "</p>"
   ]
  },
  {
   "cell_type": "markdown",
   "id": "05b7b971-c059-4aaa-bb80-f7a99f5c70aa",
   "metadata": {},
   "source": [
    "#### `difference()`"
   ]
  },
  {
   "cell_type": "markdown",
   "id": "fa1fa490-0b05-42ea-9ac9-9367ef780362",
   "metadata": {},
   "source": [
    "Calcula la diferencia entre conjuntos A-B, es decir son todos los elementos de A que no están en B."
   ]
  },
  {
   "cell_type": "code",
   "execution_count": 15,
   "id": "817aafc6-f280-420c-8da4-668e72851c5f",
   "metadata": {},
   "outputs": [
    {
     "name": "stdout",
     "output_type": "stream",
     "text": [
      "Conjunto A:  {1, 3, 5, 7, 9} \n",
      "Conjunto C:  {1, 2, 3, 7, 8, 9} \n",
      "Diferencia entre A y C:  {5}\n"
     ]
    }
   ],
   "source": [
    "A = {1, 3, 5, 7, 9}\n",
    "C = {1, 2, 3, 7, 8, 9}\n",
    "diferencia = A.difference(C)\n",
    "\n",
    "print(\"Conjunto A: \", A, \"\\nConjunto C: \", C, \"\\nDiferencia entre A y C: \", diferencia)"
   ]
  },
  {
   "cell_type": "markdown",
   "id": "4eebdbeb-3b6f-4968-bc26-a3655a0034aa",
   "metadata": {},
   "source": [
    "<p style=\"text-align:center;\">\n",
    "  <img src=\"recursos/imagenes/diferencia.png\" width=\"60%\"/>\n",
    "</p>"
   ]
  },
  {
   "cell_type": "code",
   "execution_count": 16,
   "id": "995e3e1d-01ad-4361-bf87-d94357e4800a",
   "metadata": {},
   "outputs": [
    {
     "data": {
      "text/plain": [
       "{2, 8}"
      ]
     },
     "execution_count": 16,
     "metadata": {},
     "output_type": "execute_result"
    }
   ],
   "source": [
    "# la diferencia no es conmutativa\n",
    "diferencia = C.difference(A)\n",
    "diferencia "
   ]
  },
  {
   "cell_type": "markdown",
   "id": "2694df91-e48f-4ebe-bff0-3ad6579e2659",
   "metadata": {},
   "source": [
    "#### `symmetric_difference()`"
   ]
  },
  {
   "cell_type": "markdown",
   "id": "e621b8e9-5fea-44c6-8ee4-8b1bbbc2747f",
   "metadata": {},
   "source": [
    "Calcula la diferencia simétrica A▲B, es decir son todos los elementos que están en un conjunto pero no en ambos."
   ]
  },
  {
   "cell_type": "code",
   "execution_count": 17,
   "id": "58f1c39a-6b2d-4ec6-b420-6ceaf8b12b1b",
   "metadata": {},
   "outputs": [
    {
     "name": "stdout",
     "output_type": "stream",
     "text": [
      "Conjunto A:  {1, 3, 5, 7, 9} \n",
      "Conjunto C:  {1, 2, 3, 7, 8, 9} \n",
      "Diferencia simétrica entre A y C:  {2, 5, 8}\n"
     ]
    }
   ],
   "source": [
    "A = {1, 3, 5, 7, 9}\n",
    "C = {1, 2, 3, 7, 8, 9}\n",
    "diferencia_sim = A.symmetric_difference(C)\n",
    "\n",
    "print(\"Conjunto A: \", A, \"\\nConjunto C: \", C, \"\\nDiferencia simétrica entre A y C: \", diferencia_sim)"
   ]
  },
  {
   "cell_type": "markdown",
   "id": "f64423e2-80af-4a1e-99bf-2c377e04660b",
   "metadata": {},
   "source": [
    "<p style=\"text-align:center;\">\n",
    "  <img src=\"recursos/imagenes/difsimetrica.png\" width=\"60%\"/>\n",
    "</p>"
   ]
  },
  {
   "cell_type": "markdown",
   "id": "164181f2-ea72-4b00-8e3d-ead14b3eb6e6",
   "metadata": {},
   "source": [
    "#### `isdisjoint()`"
   ]
  },
  {
   "cell_type": "markdown",
   "id": "f4840ac0-2079-4179-a164-d3cb00d1ca0b",
   "metadata": {},
   "source": [
    "Permite saber si los conjuntos son disyuntos, es decir, si no hay elementos en la intersección devuelve un valor de `True`."
   ]
  },
  {
   "cell_type": "code",
   "execution_count": 18,
   "id": "13bbb151-7aba-4176-a37c-9978a70c4d3b",
   "metadata": {
    "tags": []
   },
   "outputs": [
    {
     "name": "stdout",
     "output_type": "stream",
     "text": [
      "Conjunto A:  {1, 3, 5, 7, 9} \n",
      "Conjunto C:  {2, 4} \n",
      "¿Los conjuntos A y B son disyuntos?:  True\n"
     ]
    }
   ],
   "source": [
    "A = {1, 3, 5, 7, 9}\n",
    "#C = {1, 2, 3, 7, 8, 9}\n",
    "C = {2, 4}\n",
    "disyuntos = A.isdisjoint(C)\n",
    "\n",
    "print(\"Conjunto A: \", A, \"\\nConjunto C: \", C, \"\\n¿Los conjuntos A y B son disyuntos?: \", disyuntos)"
   ]
  },
  {
   "cell_type": "markdown",
   "id": "3aa098e9-5655-4fde-9157-a1ca68e7b224",
   "metadata": {},
   "source": [
    "#### `issubset()`"
   ]
  },
  {
   "cell_type": "markdown",
   "id": "4ef67a47-9c2d-4129-b141-42355cf8f5e6",
   "metadata": {},
   "source": [
    "Permite saber si un conjunto es subconjunto de otro, de ser así devuelve un valor `True`."
   ]
  },
  {
   "cell_type": "code",
   "execution_count": 19,
   "id": "ab4d1b6b-0f37-4c01-a072-8ff3d26e910e",
   "metadata": {},
   "outputs": [
    {
     "name": "stdout",
     "output_type": "stream",
     "text": [
      "Conjunto A:  {1, 3, 5, 7, 9} \n",
      "Conjunto D:  {1, 3} \n",
      "¿D es subconjunto de A?:  True\n"
     ]
    }
   ],
   "source": [
    "A = {1, 3, 5, 7, 9}\n",
    "D = {1, 3}\n",
    "subconjunto = D.issubset(A)\n",
    "\n",
    "print(\"Conjunto A: \", A, \"\\nConjunto D: \", D, \"\\n¿D es subconjunto de A?: \", subconjunto)"
   ]
  },
  {
   "cell_type": "markdown",
   "id": "441a1ceb-5859-44ef-9bee-8a15c1cbbe3c",
   "metadata": {},
   "source": [
    "<p style=\"text-align:center;\">\n",
    "  <img src=\"recursos/imagenes/subconjunto.png\" width=\"60%\"/>\n",
    "</p>"
   ]
  },
  {
   "cell_type": "markdown",
   "id": "56792947-201b-4ad9-b347-e271bfa3615f",
   "metadata": {},
   "source": [
    "#### `issuperset()`"
   ]
  },
  {
   "cell_type": "markdown",
   "id": "5b346f3b-9752-4e3c-8f80-e9eabea8b0c6",
   "metadata": {},
   "source": [
    "Permite saber si un conjunto A es superconjunto de otro B, es decir si A contiene a D, de ser así devuelve un valor `True`."
   ]
  },
  {
   "cell_type": "code",
   "execution_count": 20,
   "id": "266a0f3d-32a9-4b74-99f0-99805f7db2ee",
   "metadata": {},
   "outputs": [
    {
     "name": "stdout",
     "output_type": "stream",
     "text": [
      "Conjunto A:  {1, 3, 5, 7, 9} \n",
      "Conjunto D:  {1, 3} \n",
      "¿A contiene a D?:  True\n"
     ]
    }
   ],
   "source": [
    "A = {1, 3, 5, 7, 9}\n",
    "D = {1, 3}\n",
    "superconjunto = A.issuperset(D)\n",
    "\n",
    "print(\"Conjunto A: \", A, \"\\nConjunto D: \", D, \"\\n¿A contiene a D?: \", superconjunto)"
   ]
  },
  {
   "cell_type": "markdown",
   "id": "07010e86-32ac-4715-b838-2ad4c268f31e",
   "metadata": {},
   "source": [
    "<p style=\"text-align:center;\">\n",
    "  <img src=\"recursos/imagenes/superconjunto.png\" width=\"60%\"/>\n",
    "</p>"
   ]
  },
  {
   "cell_type": "markdown",
   "id": "2ca66697-7a9c-4217-bcfb-1322cafbfce3",
   "metadata": {
    "tags": []
   },
   "source": [
    "#### Nota:"
   ]
  },
  {
   "cell_type": "markdown",
   "id": "0d11ae10-b3f4-491e-98b8-1c1e94a531cb",
   "metadata": {
    "tags": []
   },
   "source": [
    "Existe otros metodos tales como:\n",
    "    \n",
    "`intersection_update()`\n",
    "\n",
    "`difference_update()`\n",
    "\n",
    "`symmetric_difference_update()`   \n",
    "\n",
    "los cuales actualizan el conjunto de la izquierda con el resultado de la operación."
   ]
  },
  {
   "cell_type": "code",
   "execution_count": 21,
   "id": "06cd9659-28f1-4db3-9496-c0580d909cd4",
   "metadata": {},
   "outputs": [
    {
     "name": "stdout",
     "output_type": "stream",
     "text": [
      "Conjunto A:  {1, 3, 5, 7, 9}\n",
      "Conjunto D:  {1, 3}\n",
      "Conjunto A actualizado:  {1, 3}\n"
     ]
    }
   ],
   "source": [
    "A = {1, 3, 5, 7, 9}\n",
    "print(\"Conjunto A: \", A)\n",
    "D = {1, 3}\n",
    "print(\"Conjunto D: \", D)\n",
    "\n",
    "A.intersection_update(D)\n",
    "\n",
    "print(\"Conjunto A actualizado: \", A)"
   ]
  },
  {
   "cell_type": "markdown",
   "id": "dadaaeae",
   "metadata": {},
   "source": [
    "<a class=\"anchor\" id=\"subsec5\"></a>\n",
    "### Convertir un objeto a conjunto "
   ]
  },
  {
   "cell_type": "markdown",
   "id": "c525b830",
   "metadata": {},
   "source": [
    "Podemos usar la función `set()` o `frozenset()` para convertir objetos iterables en conjuntos."
   ]
  },
  {
   "cell_type": "code",
   "execution_count": 22,
   "id": "ab2da046",
   "metadata": {},
   "outputs": [
    {
     "data": {
      "text/plain": [
       "{'a', 'c', 'd', 'e', 'n'}"
      ]
     },
     "execution_count": 22,
     "metadata": {},
     "output_type": "execute_result"
    }
   ],
   "source": [
    "# Convertir una cadena a tupla\n",
    "set('cadena')"
   ]
  },
  {
   "cell_type": "code",
   "execution_count": 23,
   "id": "0c10ba09",
   "metadata": {},
   "outputs": [
    {
     "data": {
      "text/plain": [
       "{1, 2, 3}"
      ]
     },
     "execution_count": 23,
     "metadata": {},
     "output_type": "execute_result"
    }
   ],
   "source": [
    "# Convertir una lista a tupla\n",
    "set([1, 2, 3])"
   ]
  },
  {
   "cell_type": "code",
   "execution_count": 24,
   "id": "a85bc123-dfc2-4ede-aef9-fa3f36dc4f3a",
   "metadata": {},
   "outputs": [
    {
     "data": {
      "text/plain": [
       "{1, 2, 5}"
      ]
     },
     "execution_count": 24,
     "metadata": {},
     "output_type": "execute_result"
    }
   ],
   "source": [
    "set([1,1,2,5,5,5,5,5])"
   ]
  }
 ],
 "metadata": {
  "kernelspec": {
   "display_name": "Python 3 (ipykernel)",
   "language": "python",
   "name": "python3"
  },
  "language_info": {
   "codemirror_mode": {
    "name": "ipython",
    "version": 3
   },
   "file_extension": ".py",
   "mimetype": "text/x-python",
   "name": "python",
   "nbconvert_exporter": "python",
   "pygments_lexer": "ipython3",
   "version": "3.9.19"
  },
  "widgets": {
   "application/vnd.jupyter.widget-state+json": {
    "state": {},
    "version_major": 2,
    "version_minor": 0
   }
  }
 },
 "nbformat": 4,
 "nbformat_minor": 5
}
