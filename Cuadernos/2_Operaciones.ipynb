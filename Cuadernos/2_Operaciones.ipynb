{
 "cells": [
  {
   "cell_type": "markdown",
   "id": "0899bda7",
   "metadata": {},
   "source": [
    "<p style=\"text-align:center;\">\n",
    "  <img src=\"recursos/imagenes/portada.jpg\" style=\"width: 250px;\" />\n",
    "</p>\n",
    "<h1 style=\"text-align: center; font-size: 50px; color:#0C90D2 ;\">Domina Python y desbloquea tu potencial</h1>\n",
    "<h3 style=\"text-align: center; font-size: 30px; color:#0C90D2 ;\">Curso introductorio a lenguaje Python</h3>"
   ]
  },
  {
   "cell_type": "markdown",
   "id": "2f691bc1-07cb-4ac9-9f86-6183d0f6d44c",
   "metadata": {},
   "source": [
    "# Contenido:"
   ]
  },
  {
   "cell_type": "markdown",
   "id": "4435856d-fdde-429e-80b0-bc20c34d3faf",
   "metadata": {},
   "source": [
    "* [Operaciones aritméticas](#sec1)\n",
    "* [Operaciones con cadenas de caracteres](#sec2)\n",
    "* [Otras funciones matemáticas](#sec3)"
   ]
  },
  {
   "cell_type": "markdown",
   "id": "f0ec3848",
   "metadata": {},
   "source": [
    "# Capítulo 2: Operaciones básicas"
   ]
  },
  {
   "cell_type": "markdown",
   "id": "59c943a4-2d65-4dc6-aa41-60b3f60b589f",
   "metadata": {},
   "source": [
    "En este capítulo, estudiaremos las operaciones básicas que se pueden llevar a cabo con datos numéricos, es decir operaciones aritméticas, y operaciones con cadenas de caracteres."
   ]
  },
  {
   "cell_type": "markdown",
   "id": "40b3c725",
   "metadata": {},
   "source": [
    "<a class=\"anchor\" id=\"sec1\"></a>\n",
    "## Operaciones aritméticas"
   ]
  },
  {
   "cell_type": "markdown",
   "id": "6d7f938e",
   "metadata": {},
   "source": [
    "Python nos permite realizar muchas operaciones matemáticas, veamos a continuación las operaciones basicas:"
   ]
  },
  {
   "cell_type": "markdown",
   "id": "f560c254",
   "metadata": {},
   "source": [
    "| **Operación**   | **Operador** |\n",
    "|-----------------|--------------|\n",
    "| Suma            | +            |\n",
    "| Resta           | -            |\n",
    "| Multiplicación  | *            |\n",
    "| Potenciación    | **           |\n",
    "| División        | /            |\n",
    "| División entera | //           |\n",
    "| Modulo          | %            |"
   ]
  },
  {
   "cell_type": "markdown",
   "id": "5c16b822",
   "metadata": {},
   "source": [
    "Se debe tener en cuenta la jerarquia de las operaciones, el orden de procedencia es el siguiente:\n",
    "\n",
    "    1. Potenciación\n",
    "    2. Multiplicación, división, división entera, modulo\n",
    "    3. Suma y resta\n",
    "En el caso de existir varias operaciones con la misma jerarquia se debe hacer uso de los `()`."
   ]
  },
  {
   "cell_type": "markdown",
   "id": "b564fd1d",
   "metadata": {},
   "source": [
    "### Suma"
   ]
  },
  {
   "cell_type": "markdown",
   "id": "9fae007c",
   "metadata": {},
   "source": [
    "Devueleve la suma de dos o mas números."
   ]
  },
  {
   "cell_type": "code",
   "execution_count": 1,
   "id": "567ae5d6",
   "metadata": {},
   "outputs": [
    {
     "data": {
      "text/plain": [
       "5"
      ]
     },
     "execution_count": 1,
     "metadata": {},
     "output_type": "execute_result"
    }
   ],
   "source": [
    "2+3"
   ]
  },
  {
   "cell_type": "markdown",
   "id": "9d908a9b",
   "metadata": {},
   "source": [
    "### Resta"
   ]
  },
  {
   "cell_type": "markdown",
   "id": "5bcf5bc6",
   "metadata": {},
   "source": [
    "Devueleve la resta de dos o mas números."
   ]
  },
  {
   "cell_type": "code",
   "execution_count": 2,
   "id": "b3afc098",
   "metadata": {},
   "outputs": [
    {
     "data": {
      "text/plain": [
       "2"
      ]
     },
     "execution_count": 2,
     "metadata": {},
     "output_type": "execute_result"
    }
   ],
   "source": [
    "7-5"
   ]
  },
  {
   "cell_type": "markdown",
   "id": "d3b2b887",
   "metadata": {},
   "source": [
    "### Multiplicación "
   ]
  },
  {
   "cell_type": "markdown",
   "id": "3a9abf3a",
   "metadata": {},
   "source": [
    "Devueleve el producto de dos o mas números."
   ]
  },
  {
   "cell_type": "code",
   "execution_count": 3,
   "id": "d12f4d40",
   "metadata": {},
   "outputs": [
    {
     "data": {
      "text/plain": [
       "2800"
      ]
     },
     "execution_count": 3,
     "metadata": {},
     "output_type": "execute_result"
    }
   ],
   "source": [
    "20*140"
   ]
  },
  {
   "cell_type": "markdown",
   "id": "74927ad8",
   "metadata": {},
   "source": [
    "### Potenciaciación"
   ]
  },
  {
   "cell_type": "markdown",
   "id": "a10df9c9",
   "metadata": {},
   "source": [
    "Devuelve el valor de un número elevado a un exponente $n$"
   ]
  },
  {
   "cell_type": "code",
   "execution_count": 4,
   "id": "9e371214",
   "metadata": {},
   "outputs": [
    {
     "data": {
      "text/plain": [
       "16"
      ]
     },
     "execution_count": 4,
     "metadata": {},
     "output_type": "execute_result"
    }
   ],
   "source": [
    "2**4"
   ]
  },
  {
   "cell_type": "markdown",
   "id": "592c264e-8a3a-4d3d-96f6-b72541f6a92f",
   "metadata": {},
   "source": [
    "Otra forma de obtener la potencia de un número es con la función `pow(x, n)`, donde $x$ es la base y $n$ es la potencia."
   ]
  },
  {
   "cell_type": "code",
   "execution_count": 5,
   "id": "11caa7b6",
   "metadata": {},
   "outputs": [
    {
     "data": {
      "text/plain": [
       "16"
      ]
     },
     "execution_count": 5,
     "metadata": {},
     "output_type": "execute_result"
    }
   ],
   "source": [
    "pow(2,4)"
   ]
  },
  {
   "cell_type": "markdown",
   "id": "4ec0eddc",
   "metadata": {},
   "source": [
    "### División"
   ]
  },
  {
   "cell_type": "markdown",
   "id": "cdbf325e",
   "metadata": {},
   "source": [
    "Devueleve el resultado de la división de dos números. Note que el valor que devuelve es flotante."
   ]
  },
  {
   "cell_type": "code",
   "execution_count": 6,
   "id": "f683d3ee",
   "metadata": {},
   "outputs": [
    {
     "data": {
      "text/plain": [
       "2.0"
      ]
     },
     "execution_count": 6,
     "metadata": {},
     "output_type": "execute_result"
    }
   ],
   "source": [
    "10/5"
   ]
  },
  {
   "cell_type": "markdown",
   "id": "1effae9e",
   "metadata": {},
   "source": [
    "### División entera"
   ]
  },
  {
   "cell_type": "markdown",
   "id": "03e5b3bf",
   "metadata": {},
   "source": [
    "Devuelve la parte entera del cociente de la división."
   ]
  },
  {
   "cell_type": "code",
   "execution_count": 7,
   "id": "b1ae493f",
   "metadata": {},
   "outputs": [
    {
     "data": {
      "text/plain": [
       "1.6666666666666667"
      ]
     },
     "execution_count": 7,
     "metadata": {},
     "output_type": "execute_result"
    }
   ],
   "source": [
    "# La división normalmente daría como resultado:\n",
    "5/3"
   ]
  },
  {
   "cell_type": "code",
   "execution_count": 8,
   "id": "04e3d700",
   "metadata": {
    "scrolled": true
   },
   "outputs": [
    {
     "data": {
      "text/plain": [
       "1"
      ]
     },
     "execution_count": 8,
     "metadata": {},
     "output_type": "execute_result"
    }
   ],
   "source": [
    "# La división entera en cambio da como resultado:\n",
    "5//3"
   ]
  },
  {
   "cell_type": "markdown",
   "id": "d6e65575",
   "metadata": {},
   "source": [
    "### Módulo"
   ]
  },
  {
   "cell_type": "markdown",
   "id": "6da4f5e7",
   "metadata": {},
   "source": [
    "La operación de Módulo devuelve el resto de la divisón entre dos números."
   ]
  },
  {
   "cell_type": "code",
   "execution_count": 9,
   "id": "b08a009d",
   "metadata": {},
   "outputs": [
    {
     "data": {
      "text/plain": [
       "2"
      ]
     },
     "execution_count": 9,
     "metadata": {},
     "output_type": "execute_result"
    }
   ],
   "source": [
    "5%3"
   ]
  },
  {
   "cell_type": "markdown",
   "id": "b94c1783",
   "metadata": {},
   "source": [
    "### Función divmod()"
   ]
  },
  {
   "cell_type": "markdown",
   "id": "2eeb778e",
   "metadata": {},
   "source": [
    "La función `divmod(x, y)` retorna una tupla formada por el cociente y el resto de de la división entre dos números. Donde $x$ es el dividendo y $y$ es el divisor."
   ]
  },
  {
   "cell_type": "code",
   "execution_count": 10,
   "id": "77d3332f",
   "metadata": {},
   "outputs": [
    {
     "data": {
      "text/plain": [
       "(1, 2)"
      ]
     },
     "execution_count": 10,
     "metadata": {},
     "output_type": "execute_result"
    }
   ],
   "source": [
    "divmod(5,3)"
   ]
  },
  {
   "cell_type": "markdown",
   "id": "a8e27d87",
   "metadata": {},
   "source": [
    "<a class=\"anchor\" id=\"sec2\"></a>\n",
    "## Operaciones con cadenas de caracteres"
   ]
  },
  {
   "cell_type": "markdown",
   "id": "470c65af",
   "metadata": {},
   "source": [
    "Con las cadenas de caracteres tambien podemos hacer uso de los operadores de `+` y `*`, aunque operan de una forma diferente."
   ]
  },
  {
   "cell_type": "markdown",
   "id": "a0b2fd4b",
   "metadata": {},
   "source": [
    "Con el operador de `+` podemos concatenar varias cadenas."
   ]
  },
  {
   "cell_type": "code",
   "execution_count": 11,
   "id": "be74b074",
   "metadata": {},
   "outputs": [
    {
     "name": "stdout",
     "output_type": "stream",
     "text": [
      "Mi nombre es Tony Stark y soy Iron Man\n"
     ]
    }
   ],
   "source": [
    "#Concatenar cadenas\n",
    "cad1 = \"Mi nombre es Tony Stark\"\n",
    "cad2 = \" y soy Iron Man\"\n",
    "\n",
    "cad3 = cad1 + cad2\n",
    "print(cad3)"
   ]
  },
  {
   "cell_type": "markdown",
   "id": "2723dab0",
   "metadata": {},
   "source": [
    "Con el operador de `*` podemos repetir una cadena cuantas veces sea indicado."
   ]
  },
  {
   "cell_type": "code",
   "execution_count": 12,
   "id": "1ff1b3a3",
   "metadata": {},
   "outputs": [
    {
     "name": "stdout",
     "output_type": "stream",
     "text": [
      "Yeah\n",
      "\n"
     ]
    }
   ],
   "source": [
    "cad4 = \"Yeah\\n\"\n",
    "print(cad4)"
   ]
  },
  {
   "cell_type": "code",
   "execution_count": 13,
   "id": "0b7cd5ae",
   "metadata": {},
   "outputs": [
    {
     "name": "stdout",
     "output_type": "stream",
     "text": [
      "Yeah\n",
      "Yeah\n",
      "Yeah\n",
      "Yeah\n",
      "Yeah\n",
      "\n"
     ]
    }
   ],
   "source": [
    "cad5 = cad4 * 5\n",
    "print(cad5)"
   ]
  },
  {
   "cell_type": "markdown",
   "id": "bbe928d3",
   "metadata": {},
   "source": [
    "<a class=\"anchor\" id=\"sec3\"></a>\n",
    "## Otras funciones matemáticas"
   ]
  },
  {
   "cell_type": "markdown",
   "id": "63b15904",
   "metadata": {},
   "source": [
    "### Valor absoluto"
   ]
  },
  {
   "cell_type": "markdown",
   "id": "200c2e1f",
   "metadata": {},
   "source": [
    "La función `abs(x)` retorna el valor absoluto de un número."
   ]
  },
  {
   "cell_type": "code",
   "execution_count": 14,
   "id": "a4ac471b",
   "metadata": {},
   "outputs": [
    {
     "data": {
      "text/plain": [
       "6"
      ]
     },
     "execution_count": 14,
     "metadata": {},
     "output_type": "execute_result"
    }
   ],
   "source": [
    "abs(-6)"
   ]
  },
  {
   "cell_type": "markdown",
   "id": "f3210fc6",
   "metadata": {},
   "source": [
    "### Máximo"
   ]
  },
  {
   "cell_type": "markdown",
   "id": "3097a5a5",
   "metadata": {},
   "source": [
    "La función `max()` calcula el valor máximo de un conjunto de números."
   ]
  },
  {
   "cell_type": "code",
   "execution_count": 15,
   "id": "26a352b0",
   "metadata": {},
   "outputs": [
    {
     "data": {
      "text/plain": [
       "10"
      ]
     },
     "execution_count": 15,
     "metadata": {},
     "output_type": "execute_result"
    }
   ],
   "source": [
    "max(1, 2, 3, 4, 5, 6, 7, 8, 9, 10)"
   ]
  },
  {
   "cell_type": "markdown",
   "id": "bf46b389",
   "metadata": {},
   "source": [
    "### Mínimo"
   ]
  },
  {
   "cell_type": "markdown",
   "id": "0e683039",
   "metadata": {},
   "source": [
    "La función `min()` calcula el valor máínimo de un conjunto de números."
   ]
  },
  {
   "cell_type": "code",
   "execution_count": 16,
   "id": "76e7a358",
   "metadata": {
    "scrolled": true
   },
   "outputs": [
    {
     "data": {
      "text/plain": [
       "1"
      ]
     },
     "execution_count": 16,
     "metadata": {},
     "output_type": "execute_result"
    }
   ],
   "source": [
    "min(1, 2, 3, 4, 5, 6, 7, 8, 9, 10)"
   ]
  },
  {
   "cell_type": "markdown",
   "id": "bafdbaa8-5852-4788-9f8f-ac9da791ee65",
   "metadata": {},
   "source": [
    "### Redondeo"
   ]
  },
  {
   "cell_type": "markdown",
   "id": "b0720e75-c872-43dc-91c4-91c553b94578",
   "metadata": {},
   "source": [
    "La función `round(x, n)` redondea el número $x$ al número especificado de dígitos decimales $n$. Si $n$ no se proporciona, redondea a un número entero."
   ]
  },
  {
   "cell_type": "code",
   "execution_count": 17,
   "id": "53ab8938-918a-4d83-a497-c0cee8fc80b4",
   "metadata": {},
   "outputs": [
    {
     "data": {
      "text/plain": [
       "2.59"
      ]
     },
     "execution_count": 17,
     "metadata": {},
     "output_type": "execute_result"
    }
   ],
   "source": [
    "round(2.5897, 2)"
   ]
  }
 ],
 "metadata": {
  "kernelspec": {
   "display_name": "Python 3 (ipykernel)",
   "language": "python",
   "name": "python3"
  },
  "language_info": {
   "codemirror_mode": {
    "name": "ipython",
    "version": 3
   },
   "file_extension": ".py",
   "mimetype": "text/x-python",
   "name": "python",
   "nbconvert_exporter": "python",
   "pygments_lexer": "ipython3",
   "version": "3.9.19"
  },
  "widgets": {
   "application/vnd.jupyter.widget-state+json": {
    "state": {},
    "version_major": 2,
    "version_minor": 0
   }
  }
 },
 "nbformat": 4,
 "nbformat_minor": 5
}
