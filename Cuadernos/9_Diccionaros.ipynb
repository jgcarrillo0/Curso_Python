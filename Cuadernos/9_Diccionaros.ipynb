{
 "cells": [
  {
   "cell_type": "markdown",
   "id": "e4cac7c3",
   "metadata": {},
   "source": [
    "<p style=\"text-align:center;\">\n",
    "  <img src=\"recursos/imagenes/portada.jpg\" style=\"width: 250px;\" />\n",
    "</p>\n",
    "<h1 style=\"text-align: center; font-size: 50px; color:#0C90D2 ;\">Domina Python y desbloquea tu potencial</h1>\n",
    "<h3 style=\"text-align: center; font-size: 30px; color:#0C90D2 ;\">Curso introductorio a lenguaje Python</h3>"
   ]
  },
  {
   "cell_type": "markdown",
   "id": "6ece1bcf-e704-43fd-9e53-6b0adab30fa2",
   "metadata": {},
   "source": [
    "# Contenido:"
   ]
  },
  {
   "cell_type": "markdown",
   "id": "1742c14c-02eb-44c7-8b8c-fbfde3fd87b7",
   "metadata": {},
   "source": [
    "* [Diccionarios](#sec1)\n",
    "    - [Definición](#subsec1)\n",
    "    - [Acceso a un elemento de un dicciionario](#subsec2)\n",
    "    - [Métodos](#subsec3)\n",
    "    - [Convetir un objeto a diccionario](#subsec4)"
   ]
  },
  {
   "cell_type": "markdown",
   "id": "138eb201",
   "metadata": {},
   "source": [
    "## Capítulo 9: Estructura de datos: Diccionarios"
   ]
  },
  {
   "cell_type": "markdown",
   "id": "a6862419-91a4-491c-9afd-5e0df2891ee3",
   "metadata": {},
   "source": [
    "Los diccionarios de Python son colecciones desordenadas de pares clave-valor mutables, que permiten acceder a los valores mediante sus claves únicas."
   ]
  },
  {
   "cell_type": "markdown",
   "id": "705b48a8",
   "metadata": {},
   "source": [
    "<a class=\"anchor\" id=\"sec1\"></a>\n",
    "## Diccionarios"
   ]
  },
  {
   "cell_type": "markdown",
   "id": "5380a8e5-b75e-44bb-9f12-4b6ca83b473e",
   "metadata": {},
   "source": [
    "<a class=\"anchor\" id=\"subsec1\"></a>\n",
    "### Definición"
   ]
  },
  {
   "cell_type": "markdown",
   "id": "9000ed29",
   "metadata": {},
   "source": [
    "Los diccionarios son una estructura de datos que almacena información en forma de clave - valor (keys - values).\n",
    "\n",
    "Son estructuras no ordenadas, mutables e iterables. Las llaves pueden ser cadenas o números, mientras que los valores pueden ser de cualquier tipo. \n",
    "\n",
    "Los diccionarios se definen entre `{}`, escribiendo los pares key:value separados por coma.\n",
    "\n",
    "En Python se identifican como `dict`."
   ]
  },
  {
   "cell_type": "code",
   "execution_count": 1,
   "id": "7433d54f",
   "metadata": {},
   "outputs": [
    {
     "data": {
      "text/plain": [
       "{'Juan': 310323, 'Maria': 310324, 'Salome': 310325}"
      ]
     },
     "execution_count": 1,
     "metadata": {},
     "output_type": "execute_result"
    }
   ],
   "source": [
    "diccionario = {\"Juan\" : 310323, \"Maria\": 310324, \"Salome\": 310325}\n",
    "diccionario"
   ]
  },
  {
   "cell_type": "code",
   "execution_count": 2,
   "id": "f9e8fe22",
   "metadata": {
    "scrolled": true,
    "tags": []
   },
   "outputs": [
    {
     "data": {
      "text/plain": [
       "dict"
      ]
     },
     "execution_count": 2,
     "metadata": {},
     "output_type": "execute_result"
    }
   ],
   "source": [
    "type(diccionario)"
   ]
  },
  {
   "cell_type": "code",
   "execution_count": 3,
   "id": "14e8ec3d",
   "metadata": {},
   "outputs": [
    {
     "data": {
      "text/plain": [
       "3"
      ]
     },
     "execution_count": 3,
     "metadata": {},
     "output_type": "execute_result"
    }
   ],
   "source": [
    "len(diccionario)"
   ]
  },
  {
   "cell_type": "markdown",
   "id": "92621b9b-3163-42d7-878c-d1f1dbe4d85a",
   "metadata": {},
   "source": [
    "<a class=\"anchor\" id=\"subsec2\"></a>\n",
    "### Acceso a un elemento de un diccionario"
   ]
  },
  {
   "cell_type": "markdown",
   "id": "8e0b1918-0fab-4d99-b0ce-e50aa64574ab",
   "metadata": {},
   "source": [
    "Podemos acceder a los valores de un diccionario por medio de su clave."
   ]
  },
  {
   "cell_type": "code",
   "execution_count": 4,
   "id": "8125dd6c-b5f1-44c4-a065-a250c1e880c8",
   "metadata": {},
   "outputs": [
    {
     "data": {
      "text/plain": [
       "310323"
      ]
     },
     "execution_count": 4,
     "metadata": {},
     "output_type": "execute_result"
    }
   ],
   "source": [
    "diccionario[\"Juan\"]"
   ]
  },
  {
   "cell_type": "markdown",
   "id": "adbd9552-ded8-44bc-a7a6-8109f0e5f3aa",
   "metadata": {},
   "source": [
    "Se puede modificar un elemento accediendo por medio de su clave."
   ]
  },
  {
   "cell_type": "code",
   "execution_count": 5,
   "id": "4bc9977a-33ba-4052-b71b-aad972d96356",
   "metadata": {},
   "outputs": [
    {
     "name": "stdout",
     "output_type": "stream",
     "text": [
      "{'Juan': 310320, 'Maria': 310324, 'Salome': 310325}\n"
     ]
    }
   ],
   "source": [
    "diccionario[\"Juan\"] = 310320\n",
    "print(diccionario)"
   ]
  },
  {
   "cell_type": "markdown",
   "id": "458faf86-5625-4872-8c44-902f520d8e3a",
   "metadata": {},
   "source": [
    "Se puede agregar un nuevo elemento siempre y cuando la clave no exista."
   ]
  },
  {
   "cell_type": "code",
   "execution_count": 6,
   "id": "1eb7a440-e2d2-4b13-bbd0-621fff49e0c1",
   "metadata": {},
   "outputs": [
    {
     "name": "stdout",
     "output_type": "stream",
     "text": [
      "{'Juan': 310320, 'Maria': 310324, 'Salome': 310325, 'Andres': 310326}\n"
     ]
    }
   ],
   "source": [
    "diccionario[\"Andres\"] = 310326\n",
    "print(diccionario)"
   ]
  },
  {
   "cell_type": "markdown",
   "id": "344d2494-488a-4367-b4a1-d3f8161066de",
   "metadata": {},
   "source": [
    "Además podemos saber si una clave pertenece al diccionario usando el operador `in`."
   ]
  },
  {
   "cell_type": "code",
   "execution_count": 7,
   "id": "cb8bf181-8f41-432c-9cce-55280b2821ec",
   "metadata": {},
   "outputs": [
    {
     "name": "stdout",
     "output_type": "stream",
     "text": [
      "¿La clave Juan pertenece al diccionario?\n"
     ]
    },
    {
     "data": {
      "text/plain": [
       "True"
      ]
     },
     "execution_count": 7,
     "metadata": {},
     "output_type": "execute_result"
    }
   ],
   "source": [
    "print(\"¿La clave Juan pertenece al diccionario?\")\n",
    "\"Juan\" in diccionario"
   ]
  },
  {
   "cell_type": "markdown",
   "id": "3ce8a49b",
   "metadata": {},
   "source": [
    "<a class=\"anchor\" id=\"subsec3\"></a>\n",
    "### Métodos"
   ]
  },
  {
   "cell_type": "markdown",
   "id": "dc32f144",
   "metadata": {},
   "source": [
    "#### `get()`"
   ]
  },
  {
   "cell_type": "markdown",
   "id": "7d4328e6",
   "metadata": {},
   "source": [
    "Permite obtener el valor por medio de una busqueda de la clave en el diccionario, si esta no existe devolvera un valor `None`."
   ]
  },
  {
   "cell_type": "code",
   "execution_count": 8,
   "id": "f009f250",
   "metadata": {},
   "outputs": [
    {
     "data": {
      "text/plain": [
       "310324"
      ]
     },
     "execution_count": 8,
     "metadata": {},
     "output_type": "execute_result"
    }
   ],
   "source": [
    "diccionario.get(\"Maria\")"
   ]
  },
  {
   "cell_type": "markdown",
   "id": "e17a3bef-d5df-4279-95c7-d55b34ec6504",
   "metadata": {},
   "source": [
    "#### `keys()`"
   ]
  },
  {
   "cell_type": "markdown",
   "id": "5efda777-b843-46b6-9d74-7f361e7e5fa0",
   "metadata": {},
   "source": [
    "Devuelve una lista con todas las claves."
   ]
  },
  {
   "cell_type": "code",
   "execution_count": 9,
   "id": "a0bd333b-ae9a-468c-9e42-a3e7107dc625",
   "metadata": {},
   "outputs": [
    {
     "data": {
      "text/plain": [
       "dict_keys(['Juan', 'Maria', 'Salome', 'Andres'])"
      ]
     },
     "execution_count": 9,
     "metadata": {},
     "output_type": "execute_result"
    }
   ],
   "source": [
    "diccionario.keys()"
   ]
  },
  {
   "cell_type": "markdown",
   "id": "6d781f15-605d-4028-89ee-6ff9245809e4",
   "metadata": {},
   "source": [
    "#### `values()`"
   ]
  },
  {
   "cell_type": "markdown",
   "id": "365e3668-24f7-4020-89dc-1d4774a143b2",
   "metadata": {},
   "source": [
    "Devuelve una lista con todas los valores."
   ]
  },
  {
   "cell_type": "code",
   "execution_count": 10,
   "id": "df53cc42-2cd8-468b-b68a-396dedcba7d1",
   "metadata": {},
   "outputs": [
    {
     "data": {
      "text/plain": [
       "dict_values([310320, 310324, 310325, 310326])"
      ]
     },
     "execution_count": 10,
     "metadata": {},
     "output_type": "execute_result"
    }
   ],
   "source": [
    "diccionario.values()"
   ]
  },
  {
   "cell_type": "markdown",
   "id": "913b4183-1c96-41b9-853d-d8911d704302",
   "metadata": {},
   "source": [
    "#### `items()`"
   ]
  },
  {
   "cell_type": "markdown",
   "id": "9ca4ce2c-4aff-4469-9b24-5cd8c012ee03",
   "metadata": {},
   "source": [
    "Devuelve una lista de tuplas con el par key-value."
   ]
  },
  {
   "cell_type": "code",
   "execution_count": 11,
   "id": "3bc130f1-91e1-47bc-8ca7-1c916f632180",
   "metadata": {},
   "outputs": [
    {
     "data": {
      "text/plain": [
       "dict_items([('Juan', 310320), ('Maria', 310324), ('Salome', 310325), ('Andres', 310326)])"
      ]
     },
     "execution_count": 11,
     "metadata": {},
     "output_type": "execute_result"
    }
   ],
   "source": [
    "diccionario.items()"
   ]
  },
  {
   "cell_type": "markdown",
   "id": "cbbf763d-313c-41c0-b2da-4982766c5e08",
   "metadata": {},
   "source": [
    "#### `pop()`"
   ]
  },
  {
   "cell_type": "markdown",
   "id": "04eb6a60-6586-46f2-86fc-b603b6e7a9c4",
   "metadata": {},
   "source": [
    "Este metodo busca y elimina la la clave que se pasa como argumento y a su vez devuelve el valor asociado"
   ]
  },
  {
   "cell_type": "code",
   "execution_count": 12,
   "id": "77601f3d-666e-4691-b27d-eb3b33d66cb3",
   "metadata": {},
   "outputs": [
    {
     "name": "stdout",
     "output_type": "stream",
     "text": [
      "Diccionario antes de pop:  {'Juan': 310320, 'Maria': 310324, 'Salome': 310325, 'Andres': 310326}\n",
      "Diccionario despues de pop:  {'Maria': 310324, 'Salome': 310325, 'Andres': 310326}\n",
      "El valor de la clave eliminada es:  310320\n"
     ]
    }
   ],
   "source": [
    "print(\"Diccionario antes de pop: \",diccionario)\n",
    "pop = diccionario.pop(\"Juan\")\n",
    "print(\"Diccionario despues de pop: \", diccionario)\n",
    "print(\"El valor de la clave eliminada es: \", pop)"
   ]
  },
  {
   "cell_type": "markdown",
   "id": "cbee20e5-08a4-4880-ac10-1334f74eaa72",
   "metadata": {},
   "source": [
    "Adicionalmente se puede pasar un segundo argumento, el cual es el valor a devolver en dado caso que la clave no exista en el diccionario."
   ]
  },
  {
   "cell_type": "code",
   "execution_count": 13,
   "id": "77ecee3b-ca7b-42d8-8a9c-238cddf680a0",
   "metadata": {},
   "outputs": [
    {
     "name": "stdout",
     "output_type": "stream",
     "text": [
      "Valor devuelto: -1\n"
     ]
    }
   ],
   "source": [
    "pop_1 = diccionario.pop(\"Carlos\", -1)\n",
    "print(\"Valor devuelto:\", pop_1)"
   ]
  },
  {
   "cell_type": "markdown",
   "id": "091abbf2-ae05-4ffe-8b63-19033572a04a",
   "metadata": {},
   "source": [
    "#### `popitem()`"
   ]
  },
  {
   "cell_type": "markdown",
   "id": "35ce6086-023f-4a09-bd70-a9876e9e5b63",
   "metadata": {},
   "source": [
    "Elimina un elemento del diccionario de forma aleatoria y lo devuelve en forma de tupla."
   ]
  },
  {
   "cell_type": "code",
   "execution_count": 14,
   "id": "a5af109c-df9a-429b-9a97-342f77d02158",
   "metadata": {},
   "outputs": [
    {
     "name": "stdout",
     "output_type": "stream",
     "text": [
      "Diccionario antes de popitem:  {'Maria': 310324, 'Salome': 310325, 'Andres': 310326}\n",
      "Diccionario despues de popitem:  {'Maria': 310324, 'Salome': 310325}\n",
      "Valor devuelto: ('Andres', 310326)\n"
     ]
    }
   ],
   "source": [
    "print(\"Diccionario antes de popitem: \",diccionario)\n",
    "popitem = diccionario.popitem()\n",
    "print(\"Diccionario despues de popitem: \", diccionario)\n",
    "print(\"Valor devuelto:\", popitem)"
   ]
  },
  {
   "cell_type": "markdown",
   "id": "583daffe",
   "metadata": {},
   "source": [
    "####  `copy()`"
   ]
  },
  {
   "cell_type": "markdown",
   "id": "5ae02dd4",
   "metadata": {},
   "source": [
    "Este método genera una copia superficial del diccionario."
   ]
  },
  {
   "cell_type": "code",
   "execution_count": 15,
   "id": "c7efe726",
   "metadata": {
    "scrolled": true,
    "tags": []
   },
   "outputs": [
    {
     "name": "stdout",
     "output_type": "stream",
     "text": [
      "Diccionario original:  {'Maria': 310324, 'Salome': 310325}\n",
      "Diccionario copia:  {'Maria': 310324, 'Salome': 310325}\n"
     ]
    }
   ],
   "source": [
    "print(\"Diccionario original: \", diccionario)\n",
    "dict_copy = diccionario.copy()\n",
    "print(\"Diccionario copia: \", dict_copy)"
   ]
  },
  {
   "cell_type": "markdown",
   "id": "2952e62a",
   "metadata": {},
   "source": [
    "#### `clear()` "
   ]
  },
  {
   "cell_type": "markdown",
   "id": "4157b982",
   "metadata": {},
   "source": [
    "Remueve todos los elementos del diccionario."
   ]
  },
  {
   "cell_type": "code",
   "execution_count": 16,
   "id": "c40648ca",
   "metadata": {},
   "outputs": [
    {
     "name": "stdout",
     "output_type": "stream",
     "text": [
      "Diccionario original:  {'Maria': 310324, 'Salome': 310325}\n",
      "Diccionario copia:  None\n"
     ]
    }
   ],
   "source": [
    "print(\"Diccionario original: \", diccionario)\n",
    "dict_clear = diccionario.clear()\n",
    "print(\"Diccionario copia: \", dict_clear )"
   ]
  },
  {
   "cell_type": "markdown",
   "id": "121559ca",
   "metadata": {},
   "source": [
    "#### `fromkeys()`"
   ]
  },
  {
   "cell_type": "markdown",
   "id": "ae3bf823",
   "metadata": {},
   "source": [
    "Con este método podemos crear un diccionario a partir de un elemento iterable que contenga las claves; los valores asignados a cada clave son del tipo `None`."
   ]
  },
  {
   "cell_type": "code",
   "execution_count": 17,
   "id": "863471e4",
   "metadata": {},
   "outputs": [
    {
     "name": "stdout",
     "output_type": "stream",
     "text": [
      "Diccionario generado: \n",
      " {'Tigre': None, 'Leon': None, 'Pantera': None, 'Jaguar': None, 'Guepardo': None}\n"
     ]
    }
   ],
   "source": [
    "claves = [\"Tigre\", \"Leon\", \"Pantera\", \"Jaguar\", \"Guepardo\"]\n",
    "felinos = dict.fromkeys(claves)\n",
    "print(\"Diccionario generado: \\n\", felinos)"
   ]
  },
  {
   "cell_type": "markdown",
   "id": "374743de-9d04-44a5-a355-9d2605deaa41",
   "metadata": {},
   "source": [
    "#### `update()`"
   ]
  },
  {
   "cell_type": "markdown",
   "id": "0269a75c-8f62-4cdf-a198-be9407812347",
   "metadata": {},
   "source": [
    "Este método toma un objeto iterable (preferiblemente tuplas) que se pasa como argumento, dando como resultado un diccionario actualizado que incluye los valores dados como argumentos. "
   ]
  },
  {
   "cell_type": "code",
   "execution_count": 18,
   "id": "662d5c48-4926-4c95-b612-437d0f321107",
   "metadata": {},
   "outputs": [
    {
     "name": "stdout",
     "output_type": "stream",
     "text": [
      "Diccionario antes de actualizar:\n",
      "  {'Tigre': None, 'Leon': None, 'Pantera': None, 'Jaguar': None, 'Guepardo': None}\n",
      "Diccionario despues de actualizar:\n",
      "  {'Tigre': None, 'Leon': None, 'Pantera': None, 'Jaguar': None, 'Guepardo': None, 'Puma': None, 'Lince': None, 'Gato': None}\n"
     ]
    }
   ],
   "source": [
    "print(\"Diccionario antes de actualizar:\\n \", felinos)\n",
    "felinos.update([(\"Puma\", None),(\"Lince\", None),(\"Gato\", None)])\n",
    "print(\"Diccionario despues de actualizar:\\n \", felinos)"
   ]
  },
  {
   "cell_type": "code",
   "execution_count": 19,
   "id": "8746d693-5dca-4848-8b0a-0ad4b3c50278",
   "metadata": {},
   "outputs": [
    {
     "data": {
      "text/plain": [
       "{'Tigre': None,\n",
       " 'Leon': None,\n",
       " 'Pantera': None,\n",
       " 'Jaguar': 'El jaguar vive en america latina',\n",
       " 'Guepardo': None,\n",
       " 'Puma': None,\n",
       " 'Lince': None,\n",
       " 'Gato': None}"
      ]
     },
     "execution_count": 19,
     "metadata": {},
     "output_type": "execute_result"
    }
   ],
   "source": [
    "felinos['Jaguar'] = \"El jaguar vive en america latina\"\n",
    "felinos"
   ]
  },
  {
   "cell_type": "markdown",
   "id": "0989b1f3-7bb1-42d4-b0c2-2ac7538007be",
   "metadata": {},
   "source": [
    "<a class=\"anchor\" id=\"subsec4\"></a>\n",
    "### Convetir un objeto a diccionario"
   ]
  },
  {
   "cell_type": "markdown",
   "id": "a7dc345c-594e-4f10-bc8a-bf89281c8763",
   "metadata": {},
   "source": [
    "Para convertir un objeto iterable a diccionario se puede usar la función `dict()`. Es importante recordar que los elementos del iterable deben tener longitud dos, es decir listas, tuplas, conjuntos de dos elementos."
   ]
  },
  {
   "cell_type": "code",
   "execution_count": 20,
   "id": "0b21c469-340f-45b0-b84f-e5e079595395",
   "metadata": {},
   "outputs": [
    {
     "data": {
      "text/plain": [
       "{'a': 1, 'b': 2, 'c': 3, 'd': 4}"
      ]
     },
     "execution_count": 20,
     "metadata": {},
     "output_type": "execute_result"
    }
   ],
   "source": [
    "arg = [[\"a\", 1], [\"b\", 2], [\"c\", 3] , [\"d\", 4]]\n",
    "letras = dict(arg)\n",
    "letras "
   ]
  }
 ],
 "metadata": {
  "kernelspec": {
   "display_name": "Python 3 (ipykernel)",
   "language": "python",
   "name": "python3"
  },
  "language_info": {
   "codemirror_mode": {
    "name": "ipython",
    "version": 3
   },
   "file_extension": ".py",
   "mimetype": "text/x-python",
   "name": "python",
   "nbconvert_exporter": "python",
   "pygments_lexer": "ipython3",
   "version": "3.9.19"
  },
  "widgets": {
   "application/vnd.jupyter.widget-state+json": {
    "state": {},
    "version_major": 2,
    "version_minor": 0
   }
  }
 },
 "nbformat": 4,
 "nbformat_minor": 5
}
