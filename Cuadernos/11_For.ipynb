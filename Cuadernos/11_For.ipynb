{
 "cells": [
  {
   "cell_type": "markdown",
   "id": "e4cac7c3",
   "metadata": {},
   "source": [
    "<p style=\"text-align:center;\">\n",
    "  <img src=\"recursos/imagenes/portada.jpg\" style=\"width: 250px;\" />\n",
    "</p>\n",
    "<h1 style=\"text-align: center; font-size: 50px; color:#0C90D2 ;\">Domina Python y desbloquea tu potencial</h1>\n",
    "<h3 style=\"text-align: center; font-size: 30px; color:#0C90D2 ;\">Curso introductorio a lenguaje Python</h3>"
   ]
  },
  {
   "cell_type": "markdown",
   "id": "494383e2-973d-4fb2-81f1-54ef387f1988",
   "metadata": {},
   "source": [
    "# Contenido:"
   ]
  },
  {
   "cell_type": "markdown",
   "id": "17c4f202-6d96-4112-a2c4-1d2ff841a689",
   "metadata": {},
   "source": [
    "* [for](#sec1)\n",
    "    - [Definición](#subsec1)\n",
    "    - [Función range()](#subsec2)\n",
    "    - [Uso de for en cadenas](#subsec3)\n",
    "    - [Uso de for en listas](#subsec4)\n",
    "    - [Uso de for en tuplas](#subsec5)\n",
    "    - [Uso de for en diccinario](#subsec6)\n",
    "    - [Uso de for anidados](#subsec7)\n",
    "* [Sentencia continue](#sec2)\n",
    "* [Sentencia break](#sec3)"
   ]
  },
  {
   "cell_type": "markdown",
   "id": "138eb201",
   "metadata": {},
   "source": [
    "## Capítulo 9: Estructuras de control : for"
   ]
  },
  {
   "cell_type": "markdown",
   "id": "883c463d-75cc-47d3-a8be-fa72b086f49a",
   "metadata": {},
   "source": [
    "Durante la creación de código es usual que se quiera repetir un proceso n-veces, o se quiera iterar sobre los elementos de un objeto (lista, tupla...), para estos casos Python cuenta con el bucle `For`."
   ]
  },
  {
   "cell_type": "markdown",
   "id": "705b48a8",
   "metadata": {},
   "source": [
    "<a class=\"anchor\" id=\"sec1\"></a>\n",
    "## Bucle For"
   ]
  },
  {
   "cell_type": "markdown",
   "id": "d22a564e-f7f5-4fb0-bda6-f4c61d10002c",
   "metadata": {},
   "source": [
    "<a class=\"anchor\" id=\"subsec1\"></a>\n",
    "### Definición"
   ]
  },
  {
   "cell_type": "markdown",
   "id": "9000ed29",
   "metadata": {},
   "source": [
    "`For` es un tipo de bucle, en el cual el usuario define el número de iteraciones que se quieran llevar a cabo, es decir, el número de iteraciones es finito. Las iteraciones se realizan sobre un objeto iterable, ya sea una lista, una tupla, un diccionario entre otros. Les estructura de un bucle `For` está dada por:"
   ]
  },
  {
   "cell_type": "markdown",
   "id": "a4abf015-9b69-4760-babe-124dc1e2282a",
   "metadata": {},
   "source": [
    "```python\n",
    "for i in <iterable>:\n",
    "    <acción a ejecutar>\n",
    "```"
   ]
  },
  {
   "cell_type": "markdown",
   "id": "caa659df-740a-4dd2-9217-9a33233aa3bf",
   "metadata": {},
   "source": [
    "La estructura de un bucle `For` está compuesta por un indice *i* el cual incrementa en 1 en cada iteración, y por un objeto iterable en el cual se realiza la iteración."
   ]
  },
  {
   "cell_type": "markdown",
   "id": "b41eef21-61dd-422e-840f-06b1fb3bd668",
   "metadata": {},
   "source": [
    "<a class=\"anchor\" id=\"subsec2\"></a>\n",
    "### Función `range()`"
   ]
  },
  {
   "cell_type": "markdown",
   "id": "0ebc4600-4039-4318-8fcf-b53ce4e9ba02",
   "metadata": {},
   "source": [
    "La función `range()` genera un rango de números desde $m$ hasta $n-1$ elementos. La función puede recibir hasta tres argumentos, los do primeros son $n$ y $m$, ya antes mencionados, y un tercer argumento $s$ el cual se puede usara para realizar saltos en la generación del rango.\n",
    "\n",
    "Los elementos generados por la función `range()` son de tipo `range`, y son objetos iterables."
   ]
  },
  {
   "cell_type": "markdown",
   "id": "92c3413e-a93c-4d7e-a079-12a1661a0278",
   "metadata": {},
   "source": [
    "<div class = \"alert alert-block alert-warning\">\n",
    "    <b>📝 Ejemplo</b>\n",
    "</div>"
   ]
  },
  {
   "cell_type": "markdown",
   "id": "7a47a274-8a89-453f-a826-6057fa83567a",
   "metadata": {},
   "source": [
    "Crearemos un rango de $0$ hasta $9$, y usaremos un bucle `for` para iterar sobre cada uno de los valores para imprimirlos con la función `print()`."
   ]
  },
  {
   "cell_type": "code",
   "execution_count": 1,
   "id": "7433d54f",
   "metadata": {},
   "outputs": [
    {
     "name": "stdout",
     "output_type": "stream",
     "text": [
      "0\n",
      "1\n",
      "2\n",
      "3\n",
      "4\n",
      "5\n",
      "6\n",
      "7\n",
      "8\n",
      "9\n"
     ]
    }
   ],
   "source": [
    "# Define un rango\n",
    "rango = range(0, 10)\n",
    "\n",
    "# Iteración del rango usando un bucle for\n",
    "for i in rango:\n",
    "    print(i)"
   ]
  },
  {
   "cell_type": "markdown",
   "id": "6c08e85b-b80a-46d6-addf-adfa1a385054",
   "metadata": {},
   "source": [
    "En este caso crearemos un rango de $0$ hasta $9$ pero añadiremos un salto de $2$, y usaremos un bucle `for` para iterar sobre cada uno de los valores para imprimirlos con la función `print()`."
   ]
  },
  {
   "cell_type": "code",
   "execution_count": 2,
   "id": "47f4ef6f-9a5b-4f52-83c2-174f63dcecc7",
   "metadata": {},
   "outputs": [
    {
     "name": "stdout",
     "output_type": "stream",
     "text": [
      "0\n",
      "2\n",
      "4\n",
      "6\n",
      "8\n"
     ]
    }
   ],
   "source": [
    "# Define un rango\n",
    "rango = range(0, 10, 2)\n",
    "\n",
    "# Iteración del rango usando un bucle for\n",
    "for i in rango:\n",
    "    print(i)"
   ]
  },
  {
   "cell_type": "markdown",
   "id": "b43f3c80-41dc-4227-b73d-9177c11d9f27",
   "metadata": {},
   "source": [
    "<a class=\"anchor\" id=\"subsec3\"></a>\n",
    "### Uso de for en cadenas"
   ]
  },
  {
   "cell_type": "markdown",
   "id": "f5c1fa63-3e3e-4a0b-a4b7-43bcf137bfb7",
   "metadata": {},
   "source": [
    "Las cadenas de caractares son elementos iterables, en este caso cada caracter está asociado a una posición en la cadena."
   ]
  },
  {
   "cell_type": "markdown",
   "id": "5048a3b1-1289-4e0e-b678-dd8f7ad52825",
   "metadata": {},
   "source": [
    "<div class = \"alert alert-block alert-warning\">\n",
    "    <b>📝 Ejemplo</b>\n",
    "</div>"
   ]
  },
  {
   "cell_type": "markdown",
   "id": "1be60d74-a760-4646-9bd2-66185b63ed83",
   "metadata": {},
   "source": [
    "Definimos una cadena, y mediante el bucle `for` iteramos sobre cada uno de sus caracteres."
   ]
  },
  {
   "cell_type": "code",
   "execution_count": 3,
   "id": "d203f724-5139-4bf6-9e53-7ac77b1c18ce",
   "metadata": {},
   "outputs": [
    {
     "name": "stdout",
     "output_type": "stream",
     "text": [
      "E\n",
      "s\n",
      "t\n",
      "o\n",
      " \n",
      "e\n",
      "s\n",
      " \n",
      "u\n",
      "n\n",
      "a\n",
      " \n",
      "c\n",
      "a\n",
      "d\n",
      "e\n",
      "n\n",
      "a\n"
     ]
    }
   ],
   "source": [
    "# Define una cadena\n",
    "cadena = \"Esto es una cadena\"\n",
    "\n",
    "# Iteración de la cadena usando un bucle for\n",
    "for i in cadena:\n",
    "    print(i)"
   ]
  },
  {
   "cell_type": "markdown",
   "id": "88255a46-27d7-4a72-bd37-fbae8bc860e0",
   "metadata": {},
   "source": [
    "Podemos iterar la cadena de atras hacia adelante usando `[::-1]`"
   ]
  },
  {
   "cell_type": "code",
   "execution_count": 4,
   "id": "a6f835bc-448b-420d-b872-8df404b5affb",
   "metadata": {},
   "outputs": [
    {
     "name": "stdout",
     "output_type": "stream",
     "text": [
      "s\n",
      "i\n",
      "r\n",
      "a\n",
      "P\n"
     ]
    }
   ],
   "source": [
    "# Define una cadena\n",
    "cadena = \"Paris\"\n",
    "\n",
    "# Iteración de la cadena usando un bucle for\n",
    "for i in cadena[::-1]:\n",
    "    print(i)"
   ]
  },
  {
   "cell_type": "markdown",
   "id": "6ca589de-ad5b-425c-abb2-db54938c2b78",
   "metadata": {},
   "source": [
    "Podemos iterar la cadena haciendo saltos con `[::2]`"
   ]
  },
  {
   "cell_type": "code",
   "execution_count": 5,
   "id": "a1a6338a-3ada-4c72-b43a-157751c278b7",
   "metadata": {},
   "outputs": [
    {
     "name": "stdout",
     "output_type": "stream",
     "text": [
      "P\n",
      "r\n",
      "s\n"
     ]
    }
   ],
   "source": [
    "# Define una cadena\n",
    "cadena = \"Paris\"\n",
    "\n",
    "# Iteración de la cadena usando un bucle for\n",
    "for i in cadena[::2]:\n",
    "    print(i)"
   ]
  },
  {
   "cell_type": "markdown",
   "id": "a4209d2b-ebc0-4f0c-89d5-5c3fdb3544d6",
   "metadata": {},
   "source": [
    "Podemos iterar la cadena desde y hasta una posición indicada `[n:m]` (sin incluir $m$)."
   ]
  },
  {
   "cell_type": "code",
   "execution_count": 6,
   "id": "ff3422eb-2739-4a2e-8fd2-f9c9f269acc3",
   "metadata": {},
   "outputs": [
    {
     "name": "stdout",
     "output_type": "stream",
     "text": [
      "l\n",
      "o\n",
      "m\n"
     ]
    }
   ],
   "source": [
    "# Define una cadena\n",
    "cadena = \"Colombia\"\n",
    "\n",
    "# Iteración de la cadena usando un bucle for\n",
    "for i in cadena[2:5]:\n",
    "    print(i)"
   ]
  },
  {
   "cell_type": "markdown",
   "id": "c1da2511-b3e9-4bc3-9f2c-b355eddb7f5d",
   "metadata": {
    "tags": []
   },
   "source": [
    "<a class=\"anchor\" id=\"subsec4\"></a>\n",
    "### Uso de for en listas"
   ]
  },
  {
   "cell_type": "markdown",
   "id": "ef27d03d-0aad-41de-a4fe-49ea50f7669f",
   "metadata": {},
   "source": [
    "Como lo vimos en el capítulo 6, las listas son objetos iterables, que permiten almacenar diversos tipos de datos."
   ]
  },
  {
   "cell_type": "markdown",
   "id": "8b3f4d03-a238-465a-bf68-2771f9d6ae43",
   "metadata": {},
   "source": [
    "<div class = \"alert alert-block alert-warning\">\n",
    "    <b>📝 Ejemplo</b>\n",
    "</div>"
   ]
  },
  {
   "cell_type": "markdown",
   "id": "55532d9a-b763-4b83-bfb4-19f6fcfef07d",
   "metadata": {},
   "source": [
    "Definamos el conjunto de las primeras 6 letras del abcedario y obtengamoslas por medio del bucle `for`."
   ]
  },
  {
   "cell_type": "code",
   "execution_count": 7,
   "id": "24e00a83-1ead-48a8-b99b-787bbe987fa1",
   "metadata": {},
   "outputs": [
    {
     "name": "stdout",
     "output_type": "stream",
     "text": [
      "a\n",
      "b\n",
      "c\n",
      "d\n",
      "e\n",
      "f\n"
     ]
    }
   ],
   "source": [
    "# Define una lista\n",
    "lista = [\"a\", \"b\", \"c\", \"d\", \"e\", \"f\"]\n",
    "\n",
    "# Iteración de la lista usando un bucle for\n",
    "for i in lista:\n",
    "    print(i)"
   ]
  },
  {
   "cell_type": "markdown",
   "id": "4558cef8-96c8-4da0-b433-ae3441811651",
   "metadata": {},
   "source": [
    "La lista puede contener diferentes tipos de datos y aún asi podemos usar el bucle `for`."
   ]
  },
  {
   "cell_type": "code",
   "execution_count": 8,
   "id": "a2ee2aee-65d0-4d3e-85f2-5442ec700273",
   "metadata": {},
   "outputs": [
    {
     "name": "stdout",
     "output_type": "stream",
     "text": [
      "1\n",
      "b\n",
      "2.5\n",
      "[1, 0]\n",
      "(2, 3)\n",
      "{1, 2, 3}\n"
     ]
    }
   ],
   "source": [
    "# Define una lista\n",
    "lista = [1, \"b\",  2.5, [1, 0], (2, 3), {1, 2, 3}]\n",
    "\n",
    "# Iteración de la lista usando un bucle for\n",
    "for i in lista:\n",
    "    print(i)"
   ]
  },
  {
   "cell_type": "markdown",
   "id": "8e0b1918-0fab-4d99-b0ce-e50aa64574ab",
   "metadata": {},
   "source": [
    "<a class=\"anchor\" id=\"subsec5\"></a>\n",
    "### Uso de for en tuplas"
   ]
  },
  {
   "cell_type": "markdown",
   "id": "f8bfd97a-33a9-445c-9efc-8366efe6da73",
   "metadata": {},
   "source": [
    "Como lo vimos en el capítulo 7, las tuplas son objetos iterables, pero que no se pueden modificar."
   ]
  },
  {
   "cell_type": "markdown",
   "id": "46cfbbd3-9713-4758-bd3b-527c5cc3bb81",
   "metadata": {},
   "source": [
    "<div class = \"alert alert-block alert-warning\">\n",
    "    <b>📝 Ejemplo</b>\n",
    "</div>"
   ]
  },
  {
   "cell_type": "code",
   "execution_count": 9,
   "id": "8125dd6c-b5f1-44c4-a065-a250c1e880c8",
   "metadata": {},
   "outputs": [
    {
     "name": "stdout",
     "output_type": "stream",
     "text": [
      "1\n",
      "2\n"
     ]
    }
   ],
   "source": [
    "# Define una tupla\n",
    "tupla = (1,2)\n",
    "\n",
    "# Iteración de la tupla usando un bucle for\n",
    "for i in tupla:\n",
    "    print(i)"
   ]
  },
  {
   "cell_type": "markdown",
   "id": "adbd9552-ded8-44bc-a7a6-8109f0e5f3aa",
   "metadata": {},
   "source": [
    "<a class=\"anchor\" id=\"subsec6\"></a>\n",
    "### Uso de `for` en diccionarios"
   ]
  },
  {
   "cell_type": "markdown",
   "id": "fe2a3493-c60a-44cf-abc9-915c889e0198",
   "metadata": {},
   "source": [
    "Recordemos que los diccionarios son estructuras que almacenan elementos en forma de pares clave-valor (keys - values), en el capitulo 9 se abarcaron algunos métodos que usaremos a continuación."
   ]
  },
  {
   "cell_type": "markdown",
   "id": "7e15b6ca-d758-4376-a6dc-fc10acf7a2f5",
   "metadata": {},
   "source": [
    "<div class = \"alert alert-block alert-warning\">\n",
    "    <b>📝 Ejemplo</b>\n",
    "</div>"
   ]
  },
  {
   "cell_type": "markdown",
   "id": "923e7c51-b45d-414c-bb01-8b0c8f0107cc",
   "metadata": {},
   "source": [
    "Para el primer caso vemos que si itermaos de forma normal, el bucle `for` itera a través de las claves del diccionario."
   ]
  },
  {
   "cell_type": "code",
   "execution_count": 10,
   "id": "5d9c437a-389b-4285-917d-2cb7b91aaac5",
   "metadata": {},
   "outputs": [
    {
     "name": "stdout",
     "output_type": "stream",
     "text": [
      "Juan\n",
      "Maria\n",
      "Salome\n"
     ]
    }
   ],
   "source": [
    "# Define un diccionario\n",
    "diccionario = {\"Juan\" : 310323, \"Maria\": 310324, \"Salome\": 310325}\n",
    "\n",
    "# Iteración del diccionario usando un bucle for\n",
    "for i in diccionario:\n",
    "    print(i)"
   ]
  },
  {
   "cell_type": "markdown",
   "id": "891f1673-fb08-47cd-b356-3c11ff723027",
   "metadata": {},
   "source": [
    "Otra forma más formal de realizar lo anterior, sería usar el método `keys()`"
   ]
  },
  {
   "cell_type": "code",
   "execution_count": 11,
   "id": "336bd6b5-26e4-450c-a2e8-907105992968",
   "metadata": {},
   "outputs": [
    {
     "name": "stdout",
     "output_type": "stream",
     "text": [
      "Juan\n",
      "Maria\n",
      "Salome\n"
     ]
    }
   ],
   "source": [
    "# Iteración del diccionario usando un bucle for\n",
    "for i in diccionario.keys():\n",
    "    print(i)"
   ]
  },
  {
   "cell_type": "markdown",
   "id": "92d1f271-b39d-4262-84f0-a75578eb4d16",
   "metadata": {},
   "source": [
    "¿Y si queremos iterar sobre los valores? Para este caso podemos usar el método `values()`."
   ]
  },
  {
   "cell_type": "code",
   "execution_count": 12,
   "id": "df0c504c-c604-4690-be94-bf18792047d9",
   "metadata": {},
   "outputs": [
    {
     "name": "stdout",
     "output_type": "stream",
     "text": [
      "310323\n",
      "310324\n",
      "310325\n"
     ]
    }
   ],
   "source": [
    "# Iteración del diccionario usando un bucle for\n",
    "for i in diccionario.values():\n",
    "    print(i)"
   ]
  },
  {
   "cell_type": "markdown",
   "id": "be787945-9ca9-4ef2-88e0-1d55f23c9311",
   "metadata": {},
   "source": [
    "¿Y si queremos iterara sobre las claves y los valores a la vez? Para esto podemos usar el método `items()` el cual devuelve una lista de tuplas."
   ]
  },
  {
   "cell_type": "code",
   "execution_count": 13,
   "id": "c400549c-bace-4662-81ee-4ca06a0fc8cd",
   "metadata": {},
   "outputs": [
    {
     "name": "stdout",
     "output_type": "stream",
     "text": [
      "('Juan', 310323)\n",
      "('Maria', 310324)\n",
      "('Salome', 310325)\n"
     ]
    }
   ],
   "source": [
    "# Iteración del diccionario usando un bucle for\n",
    "for i in diccionario.items():\n",
    "    print(i)"
   ]
  },
  {
   "cell_type": "code",
   "execution_count": 14,
   "id": "1e06ad30-813c-42dd-a7de-ce34775feaf6",
   "metadata": {},
   "outputs": [
    {
     "name": "stdout",
     "output_type": "stream",
     "text": [
      "Juan 310323\n",
      "Maria 310324\n",
      "Salome 310325\n"
     ]
    }
   ],
   "source": [
    "# Iteración del diccionario usando un bucle for\n",
    "for k, v in diccionario.items():\n",
    "    print(k, v)"
   ]
  },
  {
   "cell_type": "markdown",
   "id": "458faf86-5625-4872-8c44-902f520d8e3a",
   "metadata": {},
   "source": [
    "<a class=\"anchor\" id=\"subsec7\"></a>\n",
    "### Uso de for anidados"
   ]
  },
  {
   "cell_type": "markdown",
   "id": "9bf25ebb-1744-4d2a-82ae-fdf28a1ba011",
   "metadata": {},
   "source": [
    "Los bucles `for` pueden ser anidados y son utiles para recorrer por ejemplo matices, o listas anidadas."
   ]
  },
  {
   "cell_type": "markdown",
   "id": "795d0d33-e229-45c3-91fe-145d281865ca",
   "metadata": {},
   "source": [
    "<div class = \"alert alert-block alert-warning\">\n",
    "    <b>📝 Ejemplo</b>\n",
    "</div>"
   ]
  },
  {
   "cell_type": "markdown",
   "id": "57c8f0cd-cf1b-4c19-8ec1-96f5e4745970",
   "metadata": {},
   "source": [
    "En este caso podemos definir una matriz de 3x3; si usamos un solo `for`, la matriz se recorre fila por fila."
   ]
  },
  {
   "cell_type": "code",
   "execution_count": 15,
   "id": "ec188439-fb77-4d32-b0fc-95603ff8f7cb",
   "metadata": {},
   "outputs": [
    {
     "name": "stdout",
     "output_type": "stream",
     "text": [
      "[1, 2, 3]\n",
      "[4, 5, 6]\n",
      "[7, 8, 9]\n"
     ]
    }
   ],
   "source": [
    "# Define vun arreglo\n",
    "arreglo = [[1, 2, 3],\n",
    "           [4, 5, 6],\n",
    "           [7, 8, 9]]\n",
    "\n",
    "for i in arreglo:\n",
    "    print(i)"
   ]
  },
  {
   "cell_type": "markdown",
   "id": "bbd1c436-a663-4eb4-b3a3-baae02fe49ff",
   "metadata": {},
   "source": [
    "Ahora, usando dos `for` anidados podemos recorrer la matriz elemento por elemento."
   ]
  },
  {
   "cell_type": "code",
   "execution_count": 16,
   "id": "1eb7a440-e2d2-4b13-bbd0-621fff49e0c1",
   "metadata": {},
   "outputs": [
    {
     "name": "stdout",
     "output_type": "stream",
     "text": [
      "1\n",
      "2\n",
      "3\n",
      "4\n",
      "5\n",
      "6\n",
      "7\n",
      "8\n",
      "9\n"
     ]
    }
   ],
   "source": [
    "for i in arreglo:\n",
    "    for k in i:\n",
    "        print(k)"
   ]
  },
  {
   "cell_type": "markdown",
   "id": "f6678f04-6a30-4a0c-9d63-c375cf84cf39",
   "metadata": {},
   "source": [
    "O podemos obtner los valores de las columnas."
   ]
  },
  {
   "cell_type": "code",
   "execution_count": 17,
   "id": "a7a836bb-a13f-44c1-86a0-f3bbfe0b0941",
   "metadata": {},
   "outputs": [
    {
     "name": "stdout",
     "output_type": "stream",
     "text": [
      "1\n",
      "4\n",
      "7\n",
      "2\n",
      "5\n",
      "8\n",
      "3\n",
      "6\n",
      "9\n"
     ]
    }
   ],
   "source": [
    "for i in [0, 1, 2]:\n",
    "    for k in arreglo:\n",
    "        print(k[i])"
   ]
  },
  {
   "cell_type": "markdown",
   "id": "344d2494-488a-4367-b4a1-d3f8161066de",
   "metadata": {},
   "source": [
    "<a class=\"anchor\" id=\"sec2\"></a>\n",
    "## Sentencia `continue`"
   ]
  },
  {
   "cell_type": "markdown",
   "id": "2ad1af08-9e65-416b-81c5-80e62032ab52",
   "metadata": {},
   "source": [
    "La sentencia `continue` se usa en los bucles `for` para forzar a que pase a la siguiente iteración omitiendo las acciones que se realizan en el bucle en ese momento, siempre y cuando se cumpla una condición definida."
   ]
  },
  {
   "cell_type": "markdown",
   "id": "b8f17fd1-ac54-4882-9286-06229ba9834e",
   "metadata": {},
   "source": [
    "<div class = \"alert alert-block alert-warning\">\n",
    "    <b>📝 Ejemplo</b>\n",
    "</div>"
   ]
  },
  {
   "cell_type": "markdown",
   "id": "b4dfdf75-e491-4eea-8408-5da507c15e07",
   "metadata": {},
   "source": [
    "Supongamos que queremos sumarle a una variable los números de una lista, excepto los números pares."
   ]
  },
  {
   "cell_type": "code",
   "execution_count": 18,
   "id": "a3cc235a-8e6b-471e-8d8c-8ab8d92cee09",
   "metadata": {},
   "outputs": [
    {
     "name": "stdout",
     "output_type": "stream",
     "text": [
      "1\n",
      "4\n",
      "9\n",
      "18\n"
     ]
    }
   ],
   "source": [
    "# Define la variable a sumar\n",
    "x = 0\n",
    "# Define la lista\n",
    "lista_num = [1, 3, 5, 2, 9, 8]\n",
    "\n",
    "# Realizamos un bucle for\n",
    "for i in lista_num:\n",
    "    if i%2 == 0:\n",
    "        continue\n",
    "    x += i\n",
    "    print(x)"
   ]
  },
  {
   "cell_type": "markdown",
   "id": "dabe91fa-284b-4b27-9143-0f6608cce490",
   "metadata": {},
   "source": [
    "<a class=\"anchor\" id=\"sec3\"></a>\n",
    "## Uso de la sentencia `break`"
   ]
  },
  {
   "cell_type": "markdown",
   "id": "7576c4a7-2fbc-419d-9244-71a060aa03ce",
   "metadata": {},
   "source": [
    "La sentencia `break` se usa para romper o finalizar un bucle `for` dado que se cumpla cierta condición."
   ]
  },
  {
   "cell_type": "markdown",
   "id": "e9b5dbee-8885-441e-83c3-d52448d2cae2",
   "metadata": {},
   "source": [
    "<div class = \"alert alert-block alert-warning\">\n",
    "    <b>📝 Ejemplo</b>\n",
    "</div>"
   ]
  },
  {
   "cell_type": "markdown",
   "id": "5eb90d1e-67e9-4b03-94bf-a882b383d27b",
   "metadata": {},
   "source": [
    "Supongamos que estamos sumandole a una variable los números de una lista y queremos detener el bucle cuando la variable alcance cierto valor."
   ]
  },
  {
   "cell_type": "code",
   "execution_count": 19,
   "id": "589e3965-57bf-470e-a567-bf09d7bbf83c",
   "metadata": {},
   "outputs": [
    {
     "name": "stdout",
     "output_type": "stream",
     "text": [
      "1\n",
      "3\n",
      "6\n",
      "10\n",
      "15\n",
      "21\n"
     ]
    }
   ],
   "source": [
    "# Define la variable a sumar\n",
    "y = 0\n",
    "# Define la lista\n",
    "lista_num = [1, 2, 3, 4, 5, 6, 7, 8, 9, 10]\n",
    "\n",
    "# Realizamos un bucle for\n",
    "for i in lista_num:\n",
    "    if y >= 20:\n",
    "        break\n",
    "    y += i\n",
    "    print(y)"
   ]
  }
 ],
 "metadata": {
  "kernelspec": {
   "display_name": "Python 3 (ipykernel)",
   "language": "python",
   "name": "python3"
  },
  "language_info": {
   "codemirror_mode": {
    "name": "ipython",
    "version": 3
   },
   "file_extension": ".py",
   "mimetype": "text/x-python",
   "name": "python",
   "nbconvert_exporter": "python",
   "pygments_lexer": "ipython3",
   "version": "3.9.19"
  }
 },
 "nbformat": 4,
 "nbformat_minor": 5
}
