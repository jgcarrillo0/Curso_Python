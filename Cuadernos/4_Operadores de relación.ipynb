{
 "cells": [
  {
   "cell_type": "markdown",
   "id": "e4cac7c3",
   "metadata": {},
   "source": [
    "<p style=\"text-align:center;\">\n",
    "  <img src=\"recursos/imagenes/portada.jpg\" style=\"width: 250px;\" />\n",
    "</p>\n",
    "<h1 style=\"text-align: center; font-size: 50px; color:#0C90D2 ;\">Domina Python y desbloquea tu potencial</h1>\n",
    "<h3 style=\"text-align: center; font-size: 30px; color:#0C90D2 ;\">Curso introductorio a lenguaje Python</h3>"
   ]
  },
  {
   "cell_type": "markdown",
   "id": "5781b5b4-14d5-4c57-8a0e-c99d7572d02d",
   "metadata": {},
   "source": [
    "# Contenido:"
   ]
  },
  {
   "cell_type": "markdown",
   "id": "aff93af4-5bd6-49a1-8193-a684dcb464d8",
   "metadata": {},
   "source": [
    "* [Operadores de relación](#sec1)"
   ]
  },
  {
   "cell_type": "markdown",
   "id": "138eb201",
   "metadata": {},
   "source": [
    "## Capítulo 4: Operadores de relación"
   ]
  },
  {
   "cell_type": "markdown",
   "id": "0555cd7c-7d43-4e1b-a886-f8d49416e1cb",
   "metadata": {},
   "source": [
    "En este capítulo, profundizaremos en los operadores de relación en Python. Estos operadores nos permiten comparar valores y evaluar expresiones lógicas."
   ]
  },
  {
   "cell_type": "markdown",
   "id": "705b48a8",
   "metadata": {},
   "source": [
    "<a class=\"anchor\" id=\"sec1\"></a>\n",
    "## Operadores de relación"
   ]
  },
  {
   "cell_type": "markdown",
   "id": "9000ed29",
   "metadata": {},
   "source": [
    "Los operadores relacionales comparan datos numéricos, cadena de caracteres o lógicos. El resultado de la comparación es un valor verdadero `True` o falso `False`.\n",
    "\n",
    "Son utiles para tomar una decisión referente al flujo del programa (condicionales o bucles). \n",
    "\n",
    "Veamos a continuación los operadores relacionales:"
   ]
  },
  {
   "cell_type": "markdown",
   "id": "70ee21a8",
   "metadata": {},
   "source": [
    "| **Realación** | **Operador** |\n",
    "|---------------|--------------|\n",
    "| Igualdad      | ==           |\n",
    "| Diferente     | !=           |\n",
    "| Mayor         | >            |\n",
    "| Mayor o igual | >=           |\n",
    "| Menor         | <            |\n",
    "| Menor o igual | <=           |"
   ]
  },
  {
   "cell_type": "markdown",
   "id": "d9a5b52d",
   "metadata": {},
   "source": [
    "### Operador `==`"
   ]
  },
  {
   "cell_type": "markdown",
   "id": "72f8397d",
   "metadata": {},
   "source": [
    "El operador de igualdad evalua si dos valores son iguales, sirve para diferentes tipos de datos."
   ]
  },
  {
   "cell_type": "code",
   "execution_count": 1,
   "id": "a6f828b4",
   "metadata": {},
   "outputs": [
    {
     "data": {
      "text/plain": [
       "False"
      ]
     },
     "execution_count": 1,
     "metadata": {},
     "output_type": "execute_result"
    }
   ],
   "source": [
    "5 == 3"
   ]
  },
  {
   "cell_type": "code",
   "execution_count": 2,
   "id": "23cfb839",
   "metadata": {},
   "outputs": [
    {
     "data": {
      "text/plain": [
       "True"
      ]
     },
     "execution_count": 2,
     "metadata": {},
     "output_type": "execute_result"
    }
   ],
   "source": [
    "\"Tony\" == \"Tony\""
   ]
  },
  {
   "cell_type": "markdown",
   "id": "b5a8c87d",
   "metadata": {},
   "source": [
    "### Operador `!=`"
   ]
  },
  {
   "cell_type": "markdown",
   "id": "4a6b99b4",
   "metadata": {},
   "source": [
    "El operador de diferencia evalua si dos valores son diferentes."
   ]
  },
  {
   "cell_type": "code",
   "execution_count": 3,
   "id": "509b50ef",
   "metadata": {},
   "outputs": [
    {
     "data": {
      "text/plain": [
       "True"
      ]
     },
     "execution_count": 3,
     "metadata": {},
     "output_type": "execute_result"
    }
   ],
   "source": [
    "5 != 3"
   ]
  },
  {
   "cell_type": "markdown",
   "id": "4422e621",
   "metadata": {},
   "source": [
    "### Operador `>`"
   ]
  },
  {
   "cell_type": "markdown",
   "id": "c7160b52",
   "metadata": {},
   "source": [
    "Este operador evalua si el valor del lado izquierdo es mayor estricto que el valor del lado derecho."
   ]
  },
  {
   "cell_type": "code",
   "execution_count": 4,
   "id": "6bb4a581",
   "metadata": {},
   "outputs": [
    {
     "data": {
      "text/plain": [
       "False"
      ]
     },
     "execution_count": 4,
     "metadata": {},
     "output_type": "execute_result"
    }
   ],
   "source": [
    "4 > 4"
   ]
  },
  {
   "cell_type": "markdown",
   "id": "a87a0ddd",
   "metadata": {},
   "source": [
    "### Operador `>=`"
   ]
  },
  {
   "cell_type": "markdown",
   "id": "731a916c",
   "metadata": {},
   "source": [
    "Este operador evalua si el valor del lado izquierdo es mayor o igual que el valor del lado derecho."
   ]
  },
  {
   "cell_type": "code",
   "execution_count": 5,
   "id": "0de0be7e",
   "metadata": {},
   "outputs": [
    {
     "data": {
      "text/plain": [
       "True"
      ]
     },
     "execution_count": 5,
     "metadata": {},
     "output_type": "execute_result"
    }
   ],
   "source": [
    "4 >= 4"
   ]
  },
  {
   "cell_type": "markdown",
   "id": "42318859",
   "metadata": {},
   "source": [
    "### Operador `<`"
   ]
  },
  {
   "cell_type": "markdown",
   "id": "1d9043d3",
   "metadata": {},
   "source": [
    "Este operador evalua si el valor del lado izquierdo es menor estricto que el valor del lado derecho."
   ]
  },
  {
   "cell_type": "code",
   "execution_count": 6,
   "id": "d49cd372",
   "metadata": {},
   "outputs": [
    {
     "data": {
      "text/plain": [
       "True"
      ]
     },
     "execution_count": 6,
     "metadata": {},
     "output_type": "execute_result"
    }
   ],
   "source": [
    "6 < 7"
   ]
  },
  {
   "cell_type": "markdown",
   "id": "0a0ae0f7",
   "metadata": {},
   "source": [
    "### Operador `<=`"
   ]
  },
  {
   "cell_type": "markdown",
   "id": "8e76a4a4",
   "metadata": {},
   "source": [
    "Este operador evalua si el valor del lado izquierdo es mmenor o igual que el valor del lado derecho."
   ]
  },
  {
   "cell_type": "code",
   "execution_count": 7,
   "id": "0cd20f14",
   "metadata": {},
   "outputs": [
    {
     "data": {
      "text/plain": [
       "True"
      ]
     },
     "execution_count": 7,
     "metadata": {},
     "output_type": "execute_result"
    }
   ],
   "source": [
    "6 <= 6"
   ]
  }
 ],
 "metadata": {
  "kernelspec": {
   "display_name": "Python 3 (ipykernel)",
   "language": "python",
   "name": "python3"
  },
  "language_info": {
   "codemirror_mode": {
    "name": "ipython",
    "version": 3
   },
   "file_extension": ".py",
   "mimetype": "text/x-python",
   "name": "python",
   "nbconvert_exporter": "python",
   "pygments_lexer": "ipython3",
   "version": "3.9.19"
  },
  "widgets": {
   "application/vnd.jupyter.widget-state+json": {
    "state": {},
    "version_major": 2,
    "version_minor": 0
   }
  }
 },
 "nbformat": 4,
 "nbformat_minor": 5
}
