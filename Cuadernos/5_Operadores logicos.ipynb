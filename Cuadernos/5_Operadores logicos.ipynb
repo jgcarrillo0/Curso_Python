{
 "cells": [
  {
   "cell_type": "markdown",
   "id": "e4cac7c3",
   "metadata": {},
   "source": [
    "<p style=\"text-align:center;\">\n",
    "  <img src=\"recursos/imagenes/portada.jpg\" style=\"width: 250px;\" />\n",
    "</p>\n",
    "<h1 style=\"text-align: center; font-size: 50px; color:#0C90D2 ;\">Domina Python y desbloquea tu potencial</h1>\n",
    "<h3 style=\"text-align: center; font-size: 30px; color:#0C90D2 ;\">Curso introductorio a lenguaje Python</h3>"
   ]
  },
  {
   "cell_type": "markdown",
   "id": "e1b8fcba-90d5-4f3f-b822-b942e5b88c42",
   "metadata": {},
   "source": [
    "# Contenido:"
   ]
  },
  {
   "cell_type": "markdown",
   "id": "0e5550bd-c7fc-42d4-8610-c4a0ad6cb295",
   "metadata": {},
   "source": [
    "* [Operadores logícos](#sec1)"
   ]
  },
  {
   "cell_type": "markdown",
   "id": "138eb201",
   "metadata": {},
   "source": [
    "## Capítulo 5: Operadores logícos"
   ]
  },
  {
   "cell_type": "markdown",
   "id": "dc224586-d059-4626-86a4-aeba111f6954",
   "metadata": {},
   "source": [
    "En este capítulo, exploraremos los operadores lógicos, que son fundamentales para trabajar con expresiones lógicas en Python. Estos operadores nos permiten combinar o negar condiciones y evaluar si una expresión es verdadera o falsa."
   ]
  },
  {
   "cell_type": "markdown",
   "id": "705b48a8",
   "metadata": {},
   "source": [
    "<a class=\"anchor\" id=\"sec1\"></a>\n",
    "## Operadores logícos"
   ]
  },
  {
   "cell_type": "markdown",
   "id": "9000ed29",
   "metadata": {},
   "source": [
    "Los operadores lógicos son conectores utilizados para enlazar dos o más proposiciones simples, y a su vez comprobar su valor booleano, es decir, si es `True` o `False`.\n",
    "\n",
    "Son utiles para tomar una decisión referente al flujo del programa (condicionales o bucles). \n",
    "\n",
    "Veamos a continuación los operadores lógicos:"
   ]
  },
  {
   "cell_type": "markdown",
   "id": "70ee21a8",
   "metadata": {},
   "source": [
    "| **Conector**  | **Operador** |\n",
    "|---------------|--------------|\n",
    "| Negación      | not          |\n",
    "| Conjunción    | and          |\n",
    "| Disyunción    | or           |"
   ]
  },
  {
   "cell_type": "markdown",
   "id": "d9a5b52d",
   "metadata": {},
   "source": [
    "### Operador `not`"
   ]
  },
  {
   "cell_type": "markdown",
   "id": "72f8397d",
   "metadata": {},
   "source": [
    "El operador `not` devuelve el valor opuesto."
   ]
  },
  {
   "cell_type": "markdown",
   "id": "8a29884c",
   "metadata": {},
   "source": [
    "| **P**  | **not P** |\n",
    "|--------|-----------|\n",
    "|True    | False     |\n",
    "|False   | True      |"
   ]
  },
  {
   "cell_type": "code",
   "execution_count": 1,
   "id": "a6f828b4",
   "metadata": {},
   "outputs": [],
   "source": [
    "p = True"
   ]
  },
  {
   "cell_type": "code",
   "execution_count": 2,
   "id": "23cfb839",
   "metadata": {},
   "outputs": [
    {
     "data": {
      "text/plain": [
       "False"
      ]
     },
     "execution_count": 2,
     "metadata": {},
     "output_type": "execute_result"
    }
   ],
   "source": [
    "not p"
   ]
  },
  {
   "cell_type": "markdown",
   "id": "b5a8c87d",
   "metadata": {},
   "source": [
    "### Operador `or`"
   ]
  },
  {
   "cell_type": "markdown",
   "id": "4a6b99b4",
   "metadata": {},
   "source": [
    "El operador `or` devuelve un valor de `True` si cualquiera de las preposiciones es verdadera."
   ]
  },
  {
   "cell_type": "markdown",
   "id": "81da3f40",
   "metadata": {},
   "source": [
    "| **P**  | **Q**    |**P or Q** |\n",
    "|--------|----------|-----------|\n",
    "|True    |True      |True       | \n",
    "|True    |False     |True       |\n",
    "|False   |True      |True       |\n",
    "|False   |False     |False      |"
   ]
  },
  {
   "cell_type": "code",
   "execution_count": 3,
   "id": "509b50ef",
   "metadata": {},
   "outputs": [
    {
     "data": {
      "text/plain": [
       "True"
      ]
     },
     "execution_count": 3,
     "metadata": {},
     "output_type": "execute_result"
    }
   ],
   "source": [
    "True or False"
   ]
  },
  {
   "cell_type": "code",
   "execution_count": 4,
   "id": "3de37c50",
   "metadata": {},
   "outputs": [
    {
     "data": {
      "text/plain": [
       "False"
      ]
     },
     "execution_count": 4,
     "metadata": {},
     "output_type": "execute_result"
    }
   ],
   "source": [
    "False or False"
   ]
  },
  {
   "cell_type": "markdown",
   "id": "4422e621",
   "metadata": {},
   "source": [
    "### Operador `and`"
   ]
  },
  {
   "cell_type": "markdown",
   "id": "c7160b52",
   "metadata": {},
   "source": [
    "El operador `and` devuelve un valor de `True` si y solo si las dos preposiciones son verdaderas."
   ]
  },
  {
   "cell_type": "markdown",
   "id": "2488b6c6",
   "metadata": {},
   "source": [
    "| **P**  | **Q**    |**P and Q** |\n",
    "|--------|----------|------------|\n",
    "|True    |True      |True        | \n",
    "|True    |False     |False       |\n",
    "|False   |True      |False       |\n",
    "|False   |False     |False       |"
   ]
  },
  {
   "cell_type": "code",
   "execution_count": 5,
   "id": "6bb4a581",
   "metadata": {},
   "outputs": [
    {
     "data": {
      "text/plain": [
       "False"
      ]
     },
     "execution_count": 5,
     "metadata": {},
     "output_type": "execute_result"
    }
   ],
   "source": [
    "True and False"
   ]
  }
 ],
 "metadata": {
  "kernelspec": {
   "display_name": "Python 3 (ipykernel)",
   "language": "python",
   "name": "python3"
  },
  "language_info": {
   "codemirror_mode": {
    "name": "ipython",
    "version": 3
   },
   "file_extension": ".py",
   "mimetype": "text/x-python",
   "name": "python",
   "nbconvert_exporter": "python",
   "pygments_lexer": "ipython3",
   "version": "3.9.19"
  },
  "widgets": {
   "application/vnd.jupyter.widget-state+json": {
    "state": {},
    "version_major": 2,
    "version_minor": 0
   }
  }
 },
 "nbformat": 4,
 "nbformat_minor": 5
}
