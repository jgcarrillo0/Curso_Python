{
 "cells": [
  {
   "cell_type": "markdown",
   "id": "e4cac7c3",
   "metadata": {},
   "source": [
    "<p style=\"text-align:center;\">\n",
    "  <img src=\"recursos/imagenes/portada.jpg\" style=\"width: 250px;\" />\n",
    "</p>\n",
    "<h1 style=\"text-align: center; font-size: 50px; color:#0C90D2 ;\">Domina Python y desbloquea tu potencial</h1>\n",
    "<h3 style=\"text-align: center; font-size: 30px; color:#0C90D2 ;\">Curso introductorio a lenguaje Python</h3>"
   ]
  },
  {
   "cell_type": "markdown",
   "id": "0f9cca3f-4a9a-4154-98c4-d5d7c4001055",
   "metadata": {},
   "source": [
    "# Contenido:"
   ]
  },
  {
   "cell_type": "markdown",
   "id": "470445a7-3401-4d43-88dd-36533787073e",
   "metadata": {},
   "source": [
    "* [Tuplas](#sec1)\n",
    "    - [Definición](#subsec1)\n",
    "    - [Acceso a un elemento](#subsec2)\n",
    "    - [Métodos](#subsec3)\n",
    "    - [Convertir un objeto a tupla](#subsec4)"
   ]
  },
  {
   "cell_type": "markdown",
   "id": "138eb201",
   "metadata": {},
   "source": [
    "## Capítulo 7: Estructura de datos: Tuplas"
   ]
  },
  {
   "cell_type": "markdown",
   "id": "63a3f50b-9663-450a-88cf-4d8f1afabf84",
   "metadata": {},
   "source": [
    "Las tuplas de Python son estructuras de datos inmutables que almacenan una secuencia ordenada de elementos de diferentes tipos."
   ]
  },
  {
   "cell_type": "markdown",
   "id": "705b48a8",
   "metadata": {},
   "source": [
    "<a class=\"anchor\" id=\"sec1\"></a>\n",
    "## Tuplas"
   ]
  },
  {
   "cell_type": "markdown",
   "id": "d4ec65dc-d615-48ad-ae76-f2be4f0c8730",
   "metadata": {},
   "source": [
    "<a class=\"anchor\" id=\"subsec1\"></a>\n",
    "### Definición"
   ]
  },
  {
   "cell_type": "markdown",
   "id": "9000ed29",
   "metadata": {},
   "source": [
    "Una tupla es una estructura de datos formada por una secuencia ordenada de objetos.\n",
    "\n",
    "Las tuplas pueden contener elemntos de distintos tipos, incluyendo tuplas (anidar). Son iterables, pero a diferencia de las listas son inmutables, es decir una vez que se definan no pueden ser modificadas.\n",
    "\n",
    "Las tupals se definen entre `()`, y escribiendo los elementos separados por coma.\n",
    "\n",
    "En Python se identifican como `tuple`."
   ]
  },
  {
   "cell_type": "code",
   "execution_count": 1,
   "id": "7433d54f",
   "metadata": {},
   "outputs": [
    {
     "data": {
      "text/plain": [
       "(1, 'cadena', 2.5, True, [0, 1])"
      ]
     },
     "execution_count": 1,
     "metadata": {},
     "output_type": "execute_result"
    }
   ],
   "source": [
    "# Crea una tupla\n",
    "tupla = (1, \"cadena\", 2.5, True, [0,1]) \n",
    "# También se pueden definir omitiendo los ()\n",
    "#tupla = 1, \"cadena\", 2.5, True, [0,1]\n",
    "tupla"
   ]
  },
  {
   "cell_type": "code",
   "execution_count": 2,
   "id": "1588b46b",
   "metadata": {
    "scrolled": true
   },
   "outputs": [
    {
     "data": {
      "text/plain": [
       "tuple"
      ]
     },
     "execution_count": 2,
     "metadata": {},
     "output_type": "execute_result"
    }
   ],
   "source": [
    "type(tupla)"
   ]
  },
  {
   "cell_type": "markdown",
   "id": "7ea1afd8-63ce-4df2-a102-d5e643f6e395",
   "metadata": {},
   "source": [
    "<a class=\"anchor\" id=\"subsec2\"></a>\n",
    "### Acceso a un elemento de una tupla"
   ]
  },
  {
   "cell_type": "markdown",
   "id": "d83d8ddb",
   "metadata": {},
   "source": [
    "Al igual que las listas, los elementos de una tupla pueden ser accedidos a través del idice."
   ]
  },
  {
   "cell_type": "code",
   "execution_count": 3,
   "id": "97da16f3-bd74-4e4f-99f5-1cf3e79f7492",
   "metadata": {},
   "outputs": [
    {
     "data": {
      "text/plain": [
       "(1, 'cadena', 2.5, True, [0, 1])"
      ]
     },
     "execution_count": 3,
     "metadata": {},
     "output_type": "execute_result"
    }
   ],
   "source": [
    "# Elementos de la tupla\n",
    "tupla"
   ]
  },
  {
   "cell_type": "code",
   "execution_count": 4,
   "id": "14e8ec3d",
   "metadata": {},
   "outputs": [
    {
     "data": {
      "text/plain": [
       "'cadena'"
      ]
     },
     "execution_count": 4,
     "metadata": {},
     "output_type": "execute_result"
    }
   ],
   "source": [
    "tupla[1]"
   ]
  },
  {
   "cell_type": "code",
   "execution_count": 5,
   "id": "bb616e71",
   "metadata": {},
   "outputs": [
    {
     "data": {
      "text/plain": [
       "[0, 1]"
      ]
     },
     "execution_count": 5,
     "metadata": {},
     "output_type": "execute_result"
    }
   ],
   "source": [
    "tupla[-1]"
   ]
  },
  {
   "cell_type": "markdown",
   "id": "3ce8a49b",
   "metadata": {},
   "source": [
    "<a class=\"anchor\" id=\"subsec3\"></a>\n",
    "### Métodos"
   ]
  },
  {
   "cell_type": "markdown",
   "id": "c13ca3e8",
   "metadata": {},
   "source": [
    "#### `count()`"
   ]
  },
  {
   "cell_type": "markdown",
   "id": "f8f89e0e",
   "metadata": {},
   "source": [
    "El método `count()` recibe un elemento como argumento, y cuenta la cantidad de veces que este en la tupla."
   ]
  },
  {
   "cell_type": "code",
   "execution_count": 6,
   "id": "472585e0",
   "metadata": {},
   "outputs": [
    {
     "data": {
      "text/plain": [
       "(6, 7, 7, 8, 8, 8, 9, 9, 9, 9)"
      ]
     },
     "execution_count": 6,
     "metadata": {},
     "output_type": "execute_result"
    }
   ],
   "source": [
    "tupla2 = (6, 7, 7, 8, 8, 8, 9, 9, 9, 9)\n",
    "tupla2"
   ]
  },
  {
   "cell_type": "code",
   "execution_count": 7,
   "id": "25969b2f",
   "metadata": {},
   "outputs": [
    {
     "name": "stdout",
     "output_type": "stream",
     "text": [
      "¿Cuantas veces está el número 9 en la tupla?\n"
     ]
    },
    {
     "data": {
      "text/plain": [
       "4"
      ]
     },
     "execution_count": 7,
     "metadata": {},
     "output_type": "execute_result"
    }
   ],
   "source": [
    "print(\"¿Cuantas veces está el número 9 en la tupla?\")\n",
    "tupla2.count(9)"
   ]
  },
  {
   "cell_type": "markdown",
   "id": "a3d6a409",
   "metadata": {},
   "source": [
    "#### `index()`"
   ]
  },
  {
   "cell_type": "markdown",
   "id": "0a1294c9",
   "metadata": {},
   "source": [
    "El método `index()` devuelve el indice de la primera aparición del elemento que se pase como argumeto."
   ]
  },
  {
   "cell_type": "code",
   "execution_count": 8,
   "id": "e36a29ae",
   "metadata": {},
   "outputs": [
    {
     "name": "stdout",
     "output_type": "stream",
     "text": [
      "¿En que posición aparece por primera vez el número 9?\n"
     ]
    },
    {
     "data": {
      "text/plain": [
       "6"
      ]
     },
     "execution_count": 8,
     "metadata": {},
     "output_type": "execute_result"
    }
   ],
   "source": [
    "print(\"¿En que posición aparece por primera vez el número 9?\")\n",
    "tupla2.index(9)"
   ]
  },
  {
   "cell_type": "markdown",
   "id": "a78b1ae7",
   "metadata": {},
   "source": [
    "Además el método admite un segundo argumento, que permite buscar desde la posición deseada."
   ]
  },
  {
   "cell_type": "code",
   "execution_count": 9,
   "id": "c1f14ba5",
   "metadata": {},
   "outputs": [
    {
     "name": "stdout",
     "output_type": "stream",
     "text": [
      "¿En que posición aparece por primera vez el número 9, si se busca desde la posisión 5?\n"
     ]
    },
    {
     "data": {
      "text/plain": [
       "7"
      ]
     },
     "execution_count": 9,
     "metadata": {},
     "output_type": "execute_result"
    }
   ],
   "source": [
    "print(\"¿En que posición aparece por primera vez el número 9, si se busca desde la posisión 5?\")\n",
    "tupla2.index(9, 7)"
   ]
  },
  {
   "cell_type": "markdown",
   "id": "dadaaeae",
   "metadata": {},
   "source": [
    "<a class=\"anchor\" id=\"subsec4\"></a>\n",
    "### Convertir un objeto a tupla"
   ]
  },
  {
   "cell_type": "markdown",
   "id": "c525b830",
   "metadata": {},
   "source": [
    "Podemos usar la función `tuple()` para convertir objetos iterables en listas."
   ]
  },
  {
   "cell_type": "code",
   "execution_count": 10,
   "id": "ab2da046",
   "metadata": {},
   "outputs": [
    {
     "data": {
      "text/plain": [
       "('c', 'a', 'd', 'e', 'n', 'a')"
      ]
     },
     "execution_count": 10,
     "metadata": {},
     "output_type": "execute_result"
    }
   ],
   "source": [
    "# Convertir una cadena a tupla\n",
    "tuple('cadena')"
   ]
  },
  {
   "cell_type": "code",
   "execution_count": 11,
   "id": "c7ea2104",
   "metadata": {},
   "outputs": [
    {
     "data": {
      "text/plain": [
       "(1, 2, 3)"
      ]
     },
     "execution_count": 11,
     "metadata": {},
     "output_type": "execute_result"
    }
   ],
   "source": [
    "# Convertir una lista a tupla\n",
    "tuple([1, 2, 3])"
   ]
  },
  {
   "cell_type": "markdown",
   "id": "935c6736",
   "metadata": {},
   "source": [
    "Del mismo modo se puede convertir una tupla a lista con la función `list()`"
   ]
  },
  {
   "cell_type": "code",
   "execution_count": 12,
   "id": "69fbb9fb",
   "metadata": {},
   "outputs": [
    {
     "data": {
      "text/plain": [
       "['a', 'b', 'c']"
      ]
     },
     "execution_count": 12,
     "metadata": {},
     "output_type": "execute_result"
    }
   ],
   "source": [
    "list((\"a\", \"b\", \"c\"))"
   ]
  }
 ],
 "metadata": {
  "kernelspec": {
   "display_name": "Python 3 (ipykernel)",
   "language": "python",
   "name": "python3"
  },
  "language_info": {
   "codemirror_mode": {
    "name": "ipython",
    "version": 3
   },
   "file_extension": ".py",
   "mimetype": "text/x-python",
   "name": "python",
   "nbconvert_exporter": "python",
   "pygments_lexer": "ipython3",
   "version": "3.9.19"
  },
  "widgets": {
   "application/vnd.jupyter.widget-state+json": {
    "state": {},
    "version_major": 2,
    "version_minor": 0
   }
  }
 },
 "nbformat": 4,
 "nbformat_minor": 5
}
