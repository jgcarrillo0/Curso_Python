{
 "cells": [
  {
   "cell_type": "markdown",
   "id": "45804c67-b041-4882-b693-dedec325abeb",
   "metadata": {},
   "source": [
    "<center>\n",
    "<img src=\"0_recursos/1_imagenes/0_Portada_curso.jpg\" alt=\"Imagen\" style=\"width: 300px;\"/>\n",
    "</center>\n",
    "<h1 style=\"text-align: center; font-size: 50px; color:#0C90D2 ;\">Domina Python y desbloquea tu potencial</h1>\n",
    "<h3 style=\"text-align: center; font-size: 30px; color:#0C90D2 ;\">Curso introductorio a lenguaje Python</h3>"
   ]
  },
  {
   "cell_type": "markdown",
   "id": "e0b4b198-fb9a-4ec8-9645-412dfe861bda",
   "metadata": {},
   "source": [
    "<figure>\n",
    "<img src=\"../0_recursos/1_imagenes/0_Portada_curso.jpg\" alt=\"Imagen\" width=\"80\" height=\"80\" align=\"left\"/>\n",
    "</figure>"
   ]
  },
  {
   "cell_type": "markdown",
   "id": "b287e025-746c-4b0d-8e3b-a34d3a4d95ff",
   "metadata": {},
   "source": [
    "# Contenido:"
   ]
  },
  {
   "cell_type": "markdown",
   "id": "202c6db4-a053-4d9f-990a-a04be4d6f90a",
   "metadata": {},
   "source": [
    "* [Datos númericos](#sec1)\n",
    "* [Datos Booleanos](#sec2)\n",
    "* [Cadena de caracteres](#sec3)"
   ]
  },
  {
   "cell_type": "markdown",
   "id": "2f57cafa-0038-4d5b-ba01-54e328e067ab",
   "metadata": {
    "tags": []
   },
   "source": [
    "# Capítulo 1: Tipos de datos"
   ]
  },
  {
   "cell_type": "markdown",
   "id": "7b9fd705-9d08-4ec5-8b50-2cc8fc57793a",
   "metadata": {},
   "source": [
    "En este capítulo, nos adentraremos en los fundamentos esenciales de Python, explorando los tipos de datos fundamentales que conforman el núcleo del lenguaje de programación más popular del mundo. Desde números hasta cadenas de texto, cada tipo de dato desempeña un papel crucial en la construcción de programas poderosos y versátiles."
   ]
  },
  {
   "cell_type": "markdown",
   "id": "86ee1b83",
   "metadata": {
    "tags": []
   },
   "source": [
    "<a class=\"anchor\" id=\"sec1\"></a>\n",
    "## Datos númericos"
   ]
  },
  {
   "cell_type": "markdown",
   "id": "e72999c7",
   "metadata": {
    "tags": []
   },
   "source": [
    "### Números enteros"
   ]
  },
  {
   "cell_type": "markdown",
   "id": "2af0949c-cb5d-48e1-96e8-6e514b068b7f",
   "metadata": {},
   "source": [
    "En Python, los datos numéricos abarcan tanto los enteros como los números de punto flotante."
   ]
  },
  {
   "cell_type": "markdown",
   "id": "b6baae8b",
   "metadata": {},
   "source": [
    "Representa todos los números enteros (sin parte decimal), es decir:\n",
    "\n",
    "$$\\mathbb {Z} =\\{...,-4,-3,-2,-1,0,+1,+2,+3,\\,...\\}$$\n",
    "\n",
    "Se identifican en Python como `int`."
   ]
  },
  {
   "cell_type": "code",
   "execution_count": 11,
   "id": "0edcd486",
   "metadata": {},
   "outputs": [
    {
     "data": {
      "text/plain": [
       "5"
      ]
     },
     "execution_count": 11,
     "metadata": {},
     "output_type": "execute_result"
    }
   ],
   "source": [
    "a = 5\n",
    "a"
   ]
  },
  {
   "cell_type": "markdown",
   "id": "96eff214",
   "metadata": {},
   "source": [
    "La función `type()` nos ayuda a identificar el tipo de dato de una variable u objeto."
   ]
  },
  {
   "cell_type": "code",
   "execution_count": 13,
   "id": "c299c706",
   "metadata": {},
   "outputs": [
    {
     "data": {
      "text/plain": [
       "int"
      ]
     },
     "execution_count": 13,
     "metadata": {},
     "output_type": "execute_result"
    }
   ],
   "source": [
    "type(a)"
   ]
  },
  {
   "cell_type": "markdown",
   "id": "0b9b37c7",
   "metadata": {
    "tags": []
   },
   "source": [
    "### Números reales"
   ]
  },
  {
   "cell_type": "markdown",
   "id": "6e9d3786",
   "metadata": {},
   "source": [
    "Representa todos los números reales, es decir el conjunto: $$\\mathbb {R} = \\mathbb {Q} \\cup \\mathbb {I}$$ donde $\\mathbb {Q}$ son los racionales y $\\mathbb {I}$ son los irracionales.\n",
    "\n",
    "Los reales están compuestos por una parte entera y otra decimal, por ejemplo: **3.6**, donde **3** es la parte entera y **6** la parte decimal.\n",
    "\n",
    "Se identifican en Python como `float`."
   ]
  },
  {
   "cell_type": "code",
   "execution_count": 16,
   "id": "3072c4d7",
   "metadata": {},
   "outputs": [
    {
     "data": {
      "text/plain": [
       "3.6"
      ]
     },
     "execution_count": 16,
     "metadata": {},
     "output_type": "execute_result"
    }
   ],
   "source": [
    "b = 3.6\n",
    "b"
   ]
  },
  {
   "cell_type": "code",
   "execution_count": 17,
   "id": "e6302502",
   "metadata": {},
   "outputs": [
    {
     "data": {
      "text/plain": [
       "float"
      ]
     },
     "execution_count": 17,
     "metadata": {},
     "output_type": "execute_result"
    }
   ],
   "source": [
    "type(b)"
   ]
  },
  {
   "cell_type": "markdown",
   "id": "035f2dd9",
   "metadata": {
    "tags": []
   },
   "source": [
    "### Números complejos"
   ]
  },
  {
   "cell_type": "markdown",
   "id": "a975b7e9",
   "metadata": {},
   "source": [
    "Representa todos los números complejos, es decir:\n",
    "\n",
    "$$\n",
    "\\mathbb {C} =\\{z=a+bi; a,b \\in \\mathbb {R}, i=\\sqrt-1\\}\n",
    "$$\n",
    "\n",
    "Se componene de una parte real y una parte imaginaria.\n",
    "\n",
    "Se identifican en Python como `complex`."
   ]
  },
  {
   "cell_type": "code",
   "execution_count": 20,
   "id": "b4953761",
   "metadata": {},
   "outputs": [
    {
     "data": {
      "text/plain": [
       "(1+2j)"
      ]
     },
     "execution_count": 20,
     "metadata": {},
     "output_type": "execute_result"
    }
   ],
   "source": [
    "c = 1 + 2j\n",
    "c"
   ]
  },
  {
   "cell_type": "code",
   "execution_count": 21,
   "id": "b94622a1",
   "metadata": {},
   "outputs": [
    {
     "data": {
      "text/plain": [
       "complex"
      ]
     },
     "execution_count": 21,
     "metadata": {},
     "output_type": "execute_result"
    }
   ],
   "source": [
    "type(c)"
   ]
  },
  {
   "cell_type": "markdown",
   "id": "c96afadc",
   "metadata": {
    "tags": []
   },
   "source": [
    "### Funciones para convertir a un valor a tipo númerico"
   ]
  },
  {
   "cell_type": "markdown",
   "id": "fc8995cf-37bb-4cf6-8a82-71fa101b486a",
   "metadata": {},
   "source": [
    "La función `int()` convierte un número o cadena de caracteres(que contenga exclusivamente números) a entero."
   ]
  },
  {
   "cell_type": "code",
   "execution_count": 24,
   "id": "1681622c-cccd-478d-9258-5ec28626ecf2",
   "metadata": {},
   "outputs": [
    {
     "data": {
      "text/plain": [
       "2"
      ]
     },
     "execution_count": 24,
     "metadata": {},
     "output_type": "execute_result"
    }
   ],
   "source": [
    "int(2.5)"
   ]
  },
  {
   "cell_type": "code",
   "execution_count": 25,
   "id": "0e400a7a-b522-4bd3-b088-355dd49b9cc2",
   "metadata": {},
   "outputs": [
    {
     "data": {
      "text/plain": [
       "28"
      ]
     },
     "execution_count": 25,
     "metadata": {},
     "output_type": "execute_result"
    }
   ],
   "source": [
    "int(\"28\")"
   ]
  },
  {
   "cell_type": "markdown",
   "id": "d401b5a6-ae1a-4ed2-adf2-b0d0b090d1d9",
   "metadata": {},
   "source": [
    "La función `float()` convierte un número o cadena de caracteres(que contenga exclusivamente números o números y un punto) en flotante."
   ]
  },
  {
   "cell_type": "code",
   "execution_count": 27,
   "id": "c680d315-1ec6-4520-be40-af9e2123116f",
   "metadata": {},
   "outputs": [
    {
     "data": {
      "text/plain": [
       "2.0"
      ]
     },
     "execution_count": 27,
     "metadata": {},
     "output_type": "execute_result"
    }
   ],
   "source": [
    "float(2)"
   ]
  },
  {
   "cell_type": "code",
   "execution_count": 28,
   "id": "6d386dd8",
   "metadata": {},
   "outputs": [
    {
     "data": {
      "text/plain": [
       "28.0"
      ]
     },
     "execution_count": 28,
     "metadata": {},
     "output_type": "execute_result"
    }
   ],
   "source": [
    "float(\"28\")"
   ]
  },
  {
   "cell_type": "code",
   "execution_count": 29,
   "id": "7cc5b607",
   "metadata": {},
   "outputs": [
    {
     "data": {
      "text/plain": [
       "2.5"
      ]
     },
     "execution_count": 29,
     "metadata": {},
     "output_type": "execute_result"
    }
   ],
   "source": [
    "float(\"2.5\")"
   ]
  },
  {
   "cell_type": "markdown",
   "id": "f1d7accb",
   "metadata": {},
   "source": [
    "La función `complex()` convierte un número o cadena de caracteres(que contenga exclusivamente números o números y un punto) a complejo."
   ]
  },
  {
   "cell_type": "code",
   "execution_count": 31,
   "id": "980c740b",
   "metadata": {},
   "outputs": [
    {
     "data": {
      "text/plain": [
       "(2+0j)"
      ]
     },
     "execution_count": 31,
     "metadata": {},
     "output_type": "execute_result"
    }
   ],
   "source": [
    "complex(2)"
   ]
  },
  {
   "cell_type": "code",
   "execution_count": 32,
   "id": "400dbfac",
   "metadata": {},
   "outputs": [
    {
     "data": {
      "text/plain": [
       "(2.5+0j)"
      ]
     },
     "execution_count": 32,
     "metadata": {},
     "output_type": "execute_result"
    }
   ],
   "source": [
    "complex(2.5)"
   ]
  },
  {
   "cell_type": "code",
   "execution_count": 33,
   "id": "7c2940f3",
   "metadata": {},
   "outputs": [
    {
     "data": {
      "text/plain": [
       "(2+0j)"
      ]
     },
     "execution_count": 33,
     "metadata": {},
     "output_type": "execute_result"
    }
   ],
   "source": [
    "complex(\"2\")"
   ]
  },
  {
   "cell_type": "code",
   "execution_count": 34,
   "id": "364a220f",
   "metadata": {},
   "outputs": [
    {
     "data": {
      "text/plain": [
       "(2+3j)"
      ]
     },
     "execution_count": 34,
     "metadata": {},
     "output_type": "execute_result"
    }
   ],
   "source": [
    "# Se puede indicar la parte real e imaginaria\n",
    "complex(2,3)"
   ]
  },
  {
   "cell_type": "markdown",
   "id": "98523bb2",
   "metadata": {
    "tags": []
   },
   "source": [
    "<a class=\"anchor\" id=\"sec2\"></a>\n",
    "## Datos Booleanos"
   ]
  },
  {
   "cell_type": "markdown",
   "id": "2841b8a0",
   "metadata": {},
   "source": [
    "Los datos de tipo booleano solo pueden tomar dos valores `True` o `False`, este tipo de datos es util para expresiones condicionales o en el uso de bucles.\n",
    "\n",
    "Se identifican en Python como `bool`."
   ]
  },
  {
   "cell_type": "code",
   "execution_count": 37,
   "id": "50974c94",
   "metadata": {},
   "outputs": [
    {
     "data": {
      "text/plain": [
       "True"
      ]
     },
     "execution_count": 37,
     "metadata": {},
     "output_type": "execute_result"
    }
   ],
   "source": [
    "t = True\n",
    "t"
   ]
  },
  {
   "cell_type": "code",
   "execution_count": 38,
   "id": "673cf7f0",
   "metadata": {},
   "outputs": [
    {
     "data": {
      "text/plain": [
       "False"
      ]
     },
     "execution_count": 38,
     "metadata": {},
     "output_type": "execute_result"
    }
   ],
   "source": [
    "f = False\n",
    "f"
   ]
  },
  {
   "cell_type": "code",
   "execution_count": 39,
   "id": "b56dc11c",
   "metadata": {},
   "outputs": [
    {
     "data": {
      "text/plain": [
       "bool"
      ]
     },
     "execution_count": 39,
     "metadata": {},
     "output_type": "execute_result"
    }
   ],
   "source": [
    "type(t)"
   ]
  },
  {
   "cell_type": "markdown",
   "id": "e62cb8a3",
   "metadata": {
    "tags": []
   },
   "source": [
    "### Funciones para convertir a booleano"
   ]
  },
  {
   "cell_type": "markdown",
   "id": "3195c043",
   "metadata": {},
   "source": [
    "La función `bool()` permite convertir valores a tipo booleano."
   ]
  },
  {
   "cell_type": "code",
   "execution_count": 42,
   "id": "315bde82",
   "metadata": {},
   "outputs": [
    {
     "data": {
      "text/plain": [
       "True"
      ]
     },
     "execution_count": 42,
     "metadata": {},
     "output_type": "execute_result"
    }
   ],
   "source": [
    "bool(1)"
   ]
  },
  {
   "cell_type": "code",
   "execution_count": 43,
   "id": "54522302",
   "metadata": {},
   "outputs": [
    {
     "data": {
      "text/plain": [
       "False"
      ]
     },
     "execution_count": 43,
     "metadata": {},
     "output_type": "execute_result"
    }
   ],
   "source": [
    "bool(0)"
   ]
  },
  {
   "cell_type": "markdown",
   "id": "47edead0",
   "metadata": {},
   "source": [
    "Haciendo uso de la funcón `int` podemos convertir los valores `True` o `False` a entero."
   ]
  },
  {
   "cell_type": "code",
   "execution_count": 45,
   "id": "8d164837",
   "metadata": {},
   "outputs": [
    {
     "data": {
      "text/plain": [
       "1"
      ]
     },
     "execution_count": 45,
     "metadata": {},
     "output_type": "execute_result"
    }
   ],
   "source": [
    "int(True)"
   ]
  },
  {
   "cell_type": "code",
   "execution_count": 46,
   "id": "eaeedb67",
   "metadata": {},
   "outputs": [
    {
     "data": {
      "text/plain": [
       "0"
      ]
     },
     "execution_count": 46,
     "metadata": {},
     "output_type": "execute_result"
    }
   ],
   "source": [
    "int(False)"
   ]
  },
  {
   "cell_type": "markdown",
   "id": "ddd27002",
   "metadata": {
    "tags": []
   },
   "source": [
    "<a class=\"anchor\" id=\"sec3\"></a>\n",
    "## Cadena de caracteres"
   ]
  },
  {
   "cell_type": "markdown",
   "id": "36b892ed",
   "metadata": {},
   "source": [
    "Las cadenas de caracteres son una secuencia de caracteres como letras, números, y símbolos, delimitados por `\"\"` o `''`.\n",
    "\n",
    "Se identifican en Python como `str`."
   ]
  },
  {
   "cell_type": "code",
   "execution_count": 49,
   "id": "8f5bb0b0",
   "metadata": {},
   "outputs": [
    {
     "data": {
      "text/plain": [
       "'hola mundo'"
      ]
     },
     "execution_count": 49,
     "metadata": {},
     "output_type": "execute_result"
    }
   ],
   "source": [
    "cadena = \"hola mundo\"\n",
    "cadena"
   ]
  },
  {
   "cell_type": "markdown",
   "id": "c9c65f01-cc8f-41f3-9487-94573634d612",
   "metadata": {},
   "source": [
    "La función `print()` se utiliza para mostrar información en la salida estándar, que generalmente es la consola. Además, imprime cadenas de texto, también puede imprimir valores de variables, expresiones aritméticas, y cualquier otro objeto que se pueda convertir en una representación de cadena"
   ]
  },
  {
   "cell_type": "code",
   "execution_count": 51,
   "id": "19a9d81d",
   "metadata": {},
   "outputs": [
    {
     "name": "stdout",
     "output_type": "stream",
     "text": [
      "hola mundo\n"
     ]
    }
   ],
   "source": [
    "print(cadena)"
   ]
  },
  {
   "cell_type": "code",
   "execution_count": 52,
   "id": "12be6c14",
   "metadata": {},
   "outputs": [
    {
     "data": {
      "text/plain": [
       "str"
      ]
     },
     "execution_count": 52,
     "metadata": {},
     "output_type": "execute_result"
    }
   ],
   "source": [
    "type(cadena)"
   ]
  },
  {
   "cell_type": "markdown",
   "id": "4951f5c1",
   "metadata": {},
   "source": [
    "Algunos comandos utiles para la escritura de cadenas son `\\n` que permite generar una nueva linea o `\\t` que permite realizar una tabulación."
   ]
  },
  {
   "cell_type": "code",
   "execution_count": 54,
   "id": "6654879f",
   "metadata": {
    "scrolled": true
   },
   "outputs": [
    {
     "name": "stdout",
     "output_type": "stream",
     "text": [
      "Hola mundo\n",
      "holis mundo\n"
     ]
    }
   ],
   "source": [
    "cad_1 = \"Hola mundo\\nholis mundo\"\n",
    "print(cad_1)"
   ]
  },
  {
   "cell_type": "code",
   "execution_count": 55,
   "id": "a94ce538",
   "metadata": {},
   "outputs": [
    {
     "name": "stdout",
     "output_type": "stream",
     "text": [
      "Hola mundo \t holis mundo\n"
     ]
    }
   ],
   "source": [
    "cad_2 = \"Hola mundo \\t holis mundo\"\n",
    "print(cad_2)"
   ]
  },
  {
   "cell_type": "code",
   "execution_count": 56,
   "id": "223e5e93",
   "metadata": {},
   "outputs": [
    {
     "name": "stdout",
     "output_type": "stream",
     "text": [
      "Hola mundo \t holis mundo \n",
      "Hola mundo \t holis mundo\n"
     ]
    }
   ],
   "source": [
    "cad_3 = \"Hola mundo \\t holis mundo \\nHola mundo \\t holis mundo\"\n",
    "print(cad_3)"
   ]
  }
 ],
 "metadata": {
  "kernelspec": {
   "display_name": "Python 3 (ipykernel)",
   "language": "python",
   "name": "python3"
  },
  "language_info": {
   "codemirror_mode": {
    "name": "ipython",
    "version": 3
   },
   "file_extension": ".py",
   "mimetype": "text/x-python",
   "name": "python",
   "nbconvert_exporter": "python",
   "pygments_lexer": "ipython3",
   "version": "3.8.12"
  },
  "widgets": {
   "application/vnd.jupyter.widget-state+json": {
    "state": {},
    "version_major": 2,
    "version_minor": 0
   }
  }
 },
 "nbformat": 4,
 "nbformat_minor": 5
}
